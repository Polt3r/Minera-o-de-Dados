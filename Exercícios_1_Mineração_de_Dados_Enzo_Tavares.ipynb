{
  "nbformat": 4,
  "nbformat_minor": 0,
  "metadata": {
    "colab": {
      "provenance": [],
      "include_colab_link": true
    },
    "kernelspec": {
      "name": "python3",
      "display_name": "Python 3"
    },
    "language_info": {
      "name": "python"
    }
  },
  "cells": [
    {
      "cell_type": "markdown",
      "metadata": {
        "id": "view-in-github",
        "colab_type": "text"
      },
      "source": [
        "<a href=\"https://colab.research.google.com/github/Polt3r/Minera-o-de-Dados/blob/main/Exerc%C3%ADcios_1_Minera%C3%A7%C3%A3o_de_Dados_Enzo_Tavares.ipynb\" target=\"_parent\"><img src=\"https://colab.research.google.com/assets/colab-badge.svg\" alt=\"Open In Colab\"/></a>"
      ]
    },
    {
      "cell_type": "markdown",
      "source": [
        "![image.png](data:image/png;base64,iVBORw0KGgoAAAANSUhEUgAAA0MAAABXCAYAAADGb57/AAAAAXNSR0IArs4c6QAAAARnQU1BAACxjwv8YQUAAAAJcEhZcwAAEnQAABJ0Ad5mH3gAAEjhSURBVHhe7Z0FgBVV28cfFli6YSkJaVRAQimRUAkVJUQkJEReQQkFJVVQEBQVwUAxPhSDFFvABgSREpFukO5acnfvd37nziyzd+8GS7jLPr/3HZc7d+LMmZk7z3+eOGl8BlEURVEURVEURUllhDh/FUVRFEVRFEVRUhUqhhRFURRFURRFSZWoGFIURVEURVEUJVWiYkhRFEVRFEVRlFSJiiFFURRFURRFUVIlKoYURVEURVEURUmVqBhSFEVRFEVRFCVVomJIURRFURRFUZRUiYohRVEURVEURVFSJSqGFEVRFEVRFEVJlagYUhRFURRFURQlVaJiSFEURVEURVGUVImKIUVRFEVRFEVRUiUqhhRFURRFURRFSZWoGFIURVEURVEUJVWSxmdw/p1o9u3fLyfCwyVNmjTOnEsDTSlcqJBkCA115iiKoiiKoiiKolwekiSGBg0dJt/Mmn3JRUtERIRMmvC+lC9bxpmjKIqiKIqiKIpyeUhSmNzps2ck0mio8FOnLul01oihyKhIZy+KoiiKoiiKoiiXjySJoTTmf4JD6bJMzk4URVEURVEURVEuI0kKk+s76BmZ+dPP4ouKcuZcGshBmvrR/8kN15V35lxZ5i/8Uz78bHKM8D9C964vX056PtLVmaMoiqIoiqIoytXAJa8mh6C5mAmn03/Fzt175I/FS+SXufOip3lGIC1etsxZQlEURVEURVGUq4VL5hlCyJQoXlwe7vignDt3zpl7YUSZ7TW8rb7kypnTmXNlmTrjS3nuxZdNO87nLaUJCZHq1arIhHFvOnMURVEURVEURbkauHRiyIiGWjffJO+/OdaZk/JQMaQoiqIoiqLA4cOHZcmSJXLq1CkpU6aM5MuXT3LmzCn//vuvfPvttxIaGip33323FCpUyFlDSYnooKuKoiiKoiiK4uHs2bPywAMPSKNGjeTee++V8uXLW+EzYMAA6dChg/Tq1UveeOMNSZcunbOGklJRMaQoiqIoiqIoHj799FP58ccfxRtAtXDhQnnllVdk3rx5dn7hwoUlLCzM+VZJqaRYMbR123ZZtvxv+evvFfLrnLny829zoj+vWbvOVoFLCC7kU6dOy8mTpyQqyidnba5TQNSg+RgVGWW2F2mX807h4ScvKD9q/4EDto3LV/wTPfF54+YtEnXh0YpxwtuMtevW274I3NfuvXudpRRFURRFUZRgTJo0yf6tVauWvPXWW9K2bVvJnTu3v9iXoVixYjJs2DD7byVlk6Jyho4cPSrfzJwlv8yZJ2vXb5Cjx44538Qkffr0Ur5MGbmpSmVp17qVFMgfXLUfP3FCuvfua//i5jx0+LDs2bfP+fY8WTJnlqLXXBPj7QCcPn1a/vdQJ2ne9C5nTmxOmWV+X/CHTPvya9mydZvs3L3b+eY8WbJkljIlS0mdmjWk+T13S/6wfM43iYe2bdqyVSZN/1xWrV4ja9avN0IttiCkL641N/C9dzaRBvVulaxZsjjfKIqiKCkZX2SknVx4LqQ1z0Mxz2dFUS6MZcuWycGDB6VEiRJSsmRJOw+7b+PGjXLC2I1ly5aVXLly2flKyiZFiCGqzM35fYGMGvO6bNuxw86zzY6n6bQHcuXIIU/2ekyaNmkcK64TMdWw2X1WDLnbiqs73DcBXkJC0soTj3WTLh3aO3Ni8seixTJm3DvyjxEnFrPtYNv3lxT3bz9n9uzy0IPtbFW+xEL7P5j4iXz02SQ5c9bvqYprDCh3X+ytyDWFTd/0kNvr1fV/qSiKoqQojq9aJeGbNskppp07JTI8PPp5kubcOSnYpo3kadDAflaSF0ePHpU9e/bY5Hwm7IMkmGQXTeXKlSVz5szOpyCcOi3nzLXlO3lSfGfP+u2Iy0ia9OkkTeYskiZnDkmbN68z9+IgYmbx4sWyYsUK2bt3r+3nPHny2KII5cqVk+LFiztLxgZBtHbtWnvc7rFfe+21UqBAAfvvhEA8sf7mzZvl0KFDdt+IKEQWgoopsezbt89uL67rJGPGjDZsr0iRIs6c2Bw4cEA2bNgQ43qjMAR9EQiFIpjc5SgYceONN1qng5cjR47Yvk2bNq1dNlu2bDbHCv766y+J5EWNmU//3XDDDZLd2LoJwTljm+vXr5ft27dbIcr6BQsWlFKlStntXKoQxRQhhsa+PV7G/9+H9t8X3Fzn4u3Uro30693TmenHiqF7W8oxjxi6EKwY6tFNHu4QW7j88Muv8tTTQ+VcxLk4hUkw7I1mptYtmsngJ/skmJh34OAheWLAIFn29wp/qN0FHAf7Sm8u7Gee6iv3NbvHmasoiqIkdw78/LPsmjJFDs2bJyeNoZXBzONJ430C4PcvMGqUlHzqKf8MJVmwcuVKmT59uixdulS2bt1qvQzhRsTy4jcJJtlFwf7mz58fbbgGcmrOXDk1dbpEbNwsUaadPiPasFEuJ2lC00uabNklXf4wSVuyhGSsc4tkrHerGEvbWeLC2L17tzz77LMyY8YMWx3O28fYQdWqVZO6devKwIEDbRhcIP/3f/8nTz75pN8+M3CebrrpJnsO4zPqERFvv/22zJw5U/7++++g5xaDvmHDhvLoo49Ge5/ig9C9nj17xnmdZMmSxQqhGjVqyCOPPBJU4DzzzDPyzjvv2G2427n55pttdTzEjJeXXnpJXn755ejlEIC//fabFU9efja/Ry1atLA2K/2DwKatiKCaNWva65tt0IfffPONnRcfbO+DDz6QuXPnyq5du2Idb6ZMmWz44n333SedOnWyIvBiSPZiaJbZT59BT5t9BTTTdCiXpf/iPH9j+nzBfkzSGOGSRkY9P1TuatzQmXf5PEO/zftdevcfZPOJYm4PYca2zocs0F7/35j7pT8fNtvt0+NRZ05w+j87VL6d9aO5+M6HRricbzN/gx8fy6QzCv/1l0ZIPfODoyiKoiRfzhljbsOwYbL700/Ft2+fEAzNr3+wJxfv+ouPHi0lnnjCP0P5T8EgHD58uEydOlW2bNkSp71xpeHte4UKFZxP5zn19bdyavgIkcNHzTXm84vtK9RkzBfMcl4HnzOCI+TmapKj/5OSLh4PTjCOHz8u7dq1s4Z+fP1NtTgKJiAmvOAVat++vcyePTvW+qtWrZLrrrvO+RQTvFDdunWzXpHEnGe8Qwin+vXrO3OCM2HCBOnSpUuitonAGT9+vPXkuOBtQUQQAujdBh4WikVUrFjRmeMH4fTCCy9EL5s/f357vQR6ZL7//ntbac9drlKlSlYEIoYQZHh13O8QU4jPuBhtfrNGjRplvWAJHSceKkQY61xMefNLGkh8+swZc+Eckl2791zQtHPXbjl85KizlfMcPnJExo57J9avPAZ8qOmA0kZFP9W7hzw3qL+dnjU3SpVKFSWUtwrRQgD86ve1cW/LiRPhzjz/dgqE5ZP8RuEWKlhAcsSh8HEL8n3BAvljTNmzZbH5Pl6OHj0mL44eE0sIIYAyZAiVG64rL4P6Pu5v8+D+NnyP/XoFEiA035/4ifw8Z64zJzZffTdTvpk5O5YQQkihkskPur5cWbm1dg0bEpcnd24r4LzQxohzEfLy2DflJG98FEVRlGRJ+MaNsqxVK/n3tdfkrDEUTpt5bmYov+yhZsJD5J18iSgmpFx+CIfjLTZv2gmXSsjIu5LEtJf8nFu/Xo4+PVQiDx+RU74oOYutYCZE0ZWY2NcZM4Wzz6NHJeKnX2RfqzZyZv4Cp4WJY/ny5bGEEN4PPEBZs2a1x443A8EUKIQAzx0iIRh4LoKBF4jS24kVQrBu3Trr4ViwIP7jC3au4mLRokXy5ptvWgHkgneMkL1AEB4fffSR8+k8IU7KiUug58glsF3e5bz/Zrn4jmHMmDHSr1+/RAkhwNaeMmWK9OjRw3r9ksol8wwBBxhXR8VHhFGOTRs3lFHDnnPm+Pnjz8XSpUdv0yEeD5TZR86cOWT404OlXp3asU4ULDAXwOChw2Xv/v0xOhPBMWr4ULm70XnvkFt1jpth8vQZMmzUqzHEBcLi5qpV5MO33wxaoY79e9sw4ZNP5ZU3xkmUJ4mV/ZYuWcIKoEoVboh1ISAgh7/yqsz++ddY3rZba9WUd8a86sw5D23p3L2HLF2+Ilb/lC1dWvr0fFRqV7/ZfmaiPeFG7Hw8aYq8/cGEWMfCvl4c8ozcc1cTZ46iKIqSXDi9c6cse+ABOf777+KtYcqbc54o6a65RjIULizpsmWLfsaEmudfgW7dpGDLlvZzYog4cUIijh+XKOLz06eX9GZ76XLkcL5VkgJhPvfff781dJNgcl12/vnnHxuu5eXExE/kzLCRctpjX/zXYGmFZMksuSa8J6FVqvhnJgAhaD/99FN0vyOA8HbggSGMjXCxvHnzWmFD6JUXwr2ef/55OwU7b+QccW55Ye5CHhhCiFCwwHUIRSTXCHbs2GH7PXAZvDZffPFFnLkwH374oTz00EPR62XIkMF6rijxTS4Rwo2cIPd7Boj99ddfrXeIeYgGPFCB+4V69erJ559/HiNUcMiQIbZinrs83hdEXmD78ALddddd0ctVMecHEYpniOP2hsnhGbr11lvtcl4I18RD5+ZVuZDPhseK80RuHTlE9F/gMXCenn766ejfvwshtpK4CGgYRvaFTiGm4ZGRsW+4yTO+8P/KB9C72yPSoG6doEIIat18s/R4pKvz6Tz0z6rVMRUxIsjNy4lre26/ust6J+86HMuX334fU9CYlfPmyS2vjxopN1asEPQk5THfv2yEYINbb7GixIXtzPl9vqzfuMmZc54t27bJEvvWIea+8pmbc8xLI2xlOtrm7i/EiNRs5kfg0a5d5PFHu8XYD7DU4r+W+z8oiqIoyYaos2dl1RNPyAmPEOI3mxTmjMbQKDFypFSZPFlu+vprqW6MkuqzZsnN5m8lMxVs0cIuHx9njfG006y/+qmn5O+OHWVZmzayzBjviK9lxtD6p3t32fLmm3J83TpnjcSDN2vvV1/JtvHjZfPo0bJ51CjZlND00kuy5bXX5JR5zqV0MKjJuUiuQigo585J+KeT5GwyEkJAa0LCT8qhAYMl8l9/Ma2EwOPihXwaPA/k/BBehWjBgA4UQoBNh1iKC3K9EC5eMPQDhRCi6bnnnrNC47vvvrMT6+ElpBiA1y7kOvnyyy+dTwmDGCKHiO0T5kcInRcKGyDYYM2aNXF6uQBP0pw5c5xPVxa8V+PGjYslhBBBCED6lAnRhSeIwXC9Ni6MHTvWevKSQnDrP5nAGEAY7e6EQZ83bx5p2qSRs0TcNL79NilpFLi3o+jgOQvmS6RHrFxKDpiTuP/gQeeTg9n/PXc2lmJF467sAQirTu3aSvp0MT1rtH+7U0HPC96kwNA6PlOau1iRa5w5wbm/RTMpWbxYrL6ZZ27CMx53qqIoivLfs/Pjj2XXtGnRIXH8cjOFGYMAAVR6wADJVbu2ZAgLkzTmWWKsBEljnpch/NvzOx8IIXTb339f/mzcWFZ27So7X3lFDs+YISeMQRS+ZImEz58vR7/9VvYZg3BVr16ytGlT+eexx6yXKiEOm+fJkpYtZendd8vyTp1kZY8esrZvX1nfv3+C00ZzPGvMFL5hg7O1lMsvv/xijbmUhM+Iocjt2yUq7kvnPwMLJf3W7XLq2+/8MxLAa+fANiOwKYZA2CIgJuLK+8Gj5A3XQjA1NfeAu80zZ87ECC3DaxEYaka0VH9zTVPAwVukgkpyTz31lBUxtMHbToz+Y3EMHRMIbaMdLlTGY5/e7dEuwBPlrURHkQVyd9xlT548acUYAv5KQzgjQtILBSUoXtGqVSvrFQJyhCi+QC4UYtYL+V2zZs1yPl0YyVoMVatSSRrUqW2ETQM73V6/rvUIBZb0Cwa5PDlyZI/1IDh35hxXj/Pp0rJg4WKjwo9GX2gW8+876tdzPsRP+bJlJGsWfwxrNObfv8793flwnm9n/xDr2BBSDW6t43yKGzxE+cPyG3GJZ8s8MJ0JMRWj7YqiKMp/ylnzgN9uDAK3Whzw4KZkdiVjeGUpVco/8wI59e+/sqx1a1nTvbucXLpUIk+cEEwq8pAwOPFA8Zd5mFJpzLPhtBEn/44bJwtuuUX2GpEU17N0q1nmz4YN5YARVqfWrZPII0d4zS4sTQA5x5HQhJgLfMalNDAqMc4InUppz1bveFXJDfr19DffybktW5w5cVOnTkybCIP/1VdftcKkUaNGMnnyZOs9CQaeGy8s36dPH+eTH0K2KKQAFGsINOgJB+vVq5fzKTZdu3aVZs2aOZ/8UIzAFWuJwb22EEW0xy1j7UKZazwveI68EDrXsmVLa3O6dufEiRNt+OCVBo8OVf+87abCXtWqVZ1PMeGYCIvzDoILhOYlhUsqhmgQbqukTbF/9P7XqaO88fJLMnrEcDuNfXGEDB3QP1Fi6L/g5MnwGCcFOK2BIWlxQbhgpkw88mLCYLOBUKjBC/vlrUWJaxNXaaVpk4byYOv7pHP7Nnbq0OZ+W847HQ8gRVEUJVlgS2evXBmjUEKmcuXkujFjJMSTq3AhhBsjklC4/UasEAqE8EGA8KTiCURZIHeiYC2B5DzLaAPLnTWGyz8dO8oOYzgZy9TMOc+u6dNlzeOPS1R4uF2ebbMu7b6QyRZ+SGECIhDyGniznSIJsGWSE4j00A0bJXLjZv+MeKASGvktgbYZAuiHH36QNuY+INeFMudeMM43bYqZooAnh/GIGOPG3R7LuGFtiDTXC+NCWB6en/hge17YDjk2iYECAlSYo/oauUSvvfaa840fcoaKFi1qxRXlql3InWrSpIkVQ94xlvCE/fHHH86nKwchh14oZkF57vjw5mC5IAaTwiUTQ1wYVC/r2PYBad+61QVNrZrdI7VrVHe2FDfuhfb7wj/lo88my8RJU+KcPp06XfbtP3BFf0yDvvkx82b9+JNtT7B2utPHk6fKpOkzjHo/Zx8cMQiy3Ys9qnvvulP6P9HbDrrK1O/xXtKtS2cbrqcoiqIkD44uWSIhx45ZEQI8tK994gkbEpcUzh08KKt69JAT8+dbseI+S3jFGJIjh+S+7z4pNHiwFB0xQoo8/7yEde0qmW64IbpQA7BexKFDsrZfPzvekUuUeT5vGT1aQoyB5m2vebBIRiPgMl1/faKmDMbIyVaxoqQ1BltKhrAdjO6U5hVKCUSaLo1KRCgZQuD999+3HoZAQeRCaBhFDxCvLu+++671VLggqNgWwoFiGF4WLlxovX+Ep2GneknM+Dc4BJIKJasJGSMU77PPPrM2svd6a926tQ03I3zP+x3H06BBA1sQITBMkNwdvEtXksD9IYaC5XEFgqjzEihGE0uKGHQV/li02AigSfLPqtVyIvykREQkfKL8F+X5w+NGKFywoMz6YlrQqndTZ3wpz734slnv/LY5rurVqsiEcW86c+KGSm0vvjY21s3gv9AT95YlVpvNuvVvqS1vjX7ZmeOnx5P95Ze586LPAcdGie4fv54hWYOUh1QURVFSFlR0W2HEyP5PPrHhatZrki+fVJ89W3Ik8NY0LtYNHSpbjMiJNI9+90nDdsNatpRr+/aV7AifbNn8Xxjw0FDIYN9PP8nGF16QyH//jS7igIDKVKGC1Jg7V0Jz5pTDxihcasRUxM6dVjDx1MtkDLEK77wjmY0hmdgoCWuWmGUzmud12swxh69ISWBk33LLLcleDAVWk/OdPCm7Kt+EQeI1R5IV+FoyPN5Tsj3WHQPIPzMeyBXifJB8TxGBQNEAFEtgoFK+Ix/FO7bQoEGD7BhR2FoMJkoZbHcIFTw/hEMSdoYnyK2cBlRHS6ggAqF3lJT2tofy3IFj/kBgNbn4YJwhQuPwPDF5S7ozBhJV5YDCDogm7E++J/qKgYEZHyix1eQ4/jvvvDN6uQutJvfxxx9Lx44do9fHRieEkXL0cUHoH9v2jtnFMf/555/23xdC0uXoFSLcCJ9e/QbKI737yLwFC+14RHQAgiWhKbncxVxgwdoXbEq2vzyKoijKFSXCGBDkDLlPBR7YmYoVk9BcufwzLpBjy5fLzo8+svk/bBMTMq0xTor26iU3GsGVu2bNGEIIKMiQ2Qia4sZIvPmrrySzMfjc+AFE0UljSG9+8UX7mcpx5w4divYKIZaK9+gh+W6/XbIYwyqzMcgSM2UpXVqymH2mZCEEV/rtemqCnj27dr34Eln0qZi5bwiJw8Amx4dy1JTE9nqLEDlA+BzlqL1QAY7iCQws+tZbb8V4oU6uDkILg/yaa2IWsGKAUgZgjQuEKDlCXhAh+fLlcz7FD+3Pnj27rVjHRKEBhA8FGxAj/Jvte/OAWGfJkiU2PJDpvffec77xg8hzhVIgeDuDXdfkSwXi7duE4HjxBrnrsA9EGjlecUG7A/ObgpXsTgzJWgydOn1aHh8wSH7+ba49Oa5qBTqMt0zxTckF29aLmMx/nC0piqIoqYVI8ww8e/hwjFdkIRkzSpqk5AqZZ+f+WbPEt3VrtGcHUZPvnnuk7LBhkjYR4TzZK1eWCu++K2kLFIiOdUD47DRGZAShfMZwiTKGodte/iKOUivJNb/5qoEXyI5NGBd4eX7//Xf7Eh0IWyPUjUIBgZ4X8lawNalsxvKuvQl4atyy2IyHE+hZcj07//vf/5w5fvBaDBw40IqiQDZs2GA9L+S5eLdFHk/+/PmdT/HDGDyEySHG5s6da0UO26VKnSuoyClyvVjAX5ZDJDHhAUN8eNuAIETkFTD3OukT1hY1uEUaAgkUdLSLIgfebboEy6HCqxY41hXCleNAgHlBCzB47IsvvmhzHr37uMf8niWFZC2GvvzmO1nw5yLHY3IehE6e3Lnk9rq3yh316gadGjeoL7ly5vzvhYQ5Rw93bC9DB/WXZ/o/ecHTwD69pXXLmJVGFEVRlKuftEb0pAsIe+ZNeJQxbC6Uc0ZU7f7662ghxHvtkLx55do+fSRd9uz+mYkg5003SYknnog2HjBDTu/aJbunTbN5PqHGAHO/I1Ru2xtvyNY337RiKbXBm27lv4VCCIS8MRYPhQH8qQhix9Px5gQB5a7xNASWx04M+/fvtyIKTwtiyxUPQOEC8owItcPAZxo6dKgNASOEzmvMM+4Q20hsHhHL4f3Bm0TuDx4wLwgjwtouFPqBEt8MWpsjYNBlBq1FYDImEH2IF2nq1KnOt34o3MD17/a3F7xueK2Y2AcCE9q2bRtDeAGFIR588EEZPXq0TJ8+3RYkIcSPcMadO3fG6Duq/TF+VFJItjlDJ43qbv/wI7J2/YYYB8uJ79PzUWnapLGEOXXH46J9126y7O8VMfJq/oucoakf/Z9UuD54HfukcrE5Q19/P0vWGHXv9gNtzm5U/MMd2msRBUVRlGRAZHi4/P3ww3LQGE/kDPHLnL5IEbnJGBDZK1WyyySWo8Yg+qNaNYlwnhm8m81tDLQbjeGXGK+QlzN798ocY3jh9eHpjP8jrEMHqfTeezK/Zk05tWyZrfgF1qQzz5QcxkjJe8cdUuCeeyRHHOVyrzao4EXYjndsl+RISswZ4l5I1/B2yT36ZUkTz/WL4MCLQP+Tz4NQwTNBqBznx3teWA7D//bbb4+ej4eDsXjwsjDPnY/NhSHvLZvOcuTDUNGNgV0DvS3A9iBYzhIQ3sYUzEaFwJwhvC/kQFWvHrwIGW2hCh42Huuw3caNG9uQOj4zcSx4fBA43vLW5PCwv9q1a1sh6c6HwoULW+GGZ2bt2rV2ffd7PKIIJAaARYxWqFAhRh4VbfbamYQrUu6cMMTmzZtbseTdlwvrUTAi0BsEhCciluLqh4RItp6h9Rs2xhJCCJNGt9WXLg+2T1AIJQnEaBBHUlRU7JMSFHNBBS7JRRZMGQeD5Zav+EcWL10mS5b9ZadFS5bKhoDyjpAp4Oanm86cPSO7E1mbHjE0cfJU+b+PP7UT1fkmfz5DIjTGWVEUJVkQYgynjOYh75pFtorbjh1JGoz0pHmOpHGeRTzmzprnaS4jUC5UCEGoef7mb9EiOneI7Z0yRg9jA5Xo21cijHHjttnu0RgvJ4wxteH552VhgwbyS5kysrJXL9lPKM7+/UnydKUECDHCIFT+GxB5X3zxhfPJ7+2YN2+eHUw1cEwbxCDJ93givOB1oegC+SlUpfNO7dq1c5byQygc+8ALxcCuiAJsQC/kwDAFGvOIFDweeI/iEkIXihsi6AohQOh98MEHMY6Hf1PAAJHlhdC7devW2cIRgQPD4pUh1A5vGALFezxU7sPLExfkFx0+fDh6OnDggBVL5D4RvlitWrVY/Qas5w33c0GoMiZUUoUQJFsxFGl/tGN2Rhrzvyo3Ju5t2Jat2+TYseN+lZBICoSFxfB2udD5iaFYkSIBLYY0stm0JTGQI/VY337Ssdtj8uD/utup06M9Zcy4d5wlznN344YBx8YoxGflh19iDvgVDJY7cvSIHVSN442eVAgpiqIkGzAIslesKBHGEHEf1hgCm8eOlYggCcvxwSCr7hOD5xShcdkCYvQTC6KHqnNum3hqntmzR46vXSuFjRFUevBgSZczp/U+sS++5ynKvyOPHbODt25/4w1Z2qiRzKtcWVY//rjsmzVLzsUx+GVKBuOT/I9gxp1yeUF00P+UX46v/8lXoZQ2IoRcGa+xjVcDjwTeCyZEARP/xvvjBcOePBa8HiNHjpSx5j4ldC2hc1+uXDkZMWKELWkdLJ/GS6A9Sp5TXIU6yG1CDHqPp2bNmvZ6DHY8gQOcEmJHLlD9+vXl9ddft561hI6F6omU+HbLYiPEvF6hYNB+vD2Ax2nmzJl2MFpeJsS3P9pdr149K1bjE1+JIe1QAhcvkB9+/lU2bt4SwxinwUXMQdxzZxNnzsWxe89e+eIb4gi9+wiROrVqSMUbrnfmxObQ4SPy+vh3ZciIl2Tf/v0xTgBtJBSs/QP3B43HzJs3j3w7c7acMCcuGrM+F3iVSpWkcKGCzszgMM7SjG+/i1H9gvO4c/duuffOxgkmU86b/4fM+ObbmG02U4umd8USgYxHNOnzGc6n8+wx/Vb/1lvsccbFzB9/kknT/G5jF7xut9SoYURWI2eOoiiK8l+DF2avMdCi9u61FbQQFme3b7eFFPLUrWuXSQx7vvxSjhjjiF993juHGkOjpDHm0gfkAySW46tWycGvv7ZtsuaKMaYK3H23rXZHu7IYA4/iD6c2bbIeJPYbOHEsUUbUnVy8WHZMnSonVq60YwtlLVvWfHN1QCliDM1ffvkl0VEiVxpG+o9RKtkY3MfHv2dOEmcpeYIFF1KyhGRq1FCoeBgMQqeoIFfWXE8IAHJYCFMjRIzv8AR17tzZej7wDOEFwYjHw8BUq1Yt6d27d5yV3bDpOKeICHcdhA3bBTwc5NyQx5M7d24rypjYP4OFIhzIh8EMpwR3QkIDEA0ch7s/QvNuu+02m6MTCGNcce3VMLYdy/KXsEGuyWCwXbZDYQl3+whFjoljpD84DsQh/ZgrVy57LIxjhCiheASD3AZunz4il8fdZuBEGB7HgNgCtk3IHPtEEBG6yHlhf1TLoz2E+vXo0UOef/55e34vlmSbM7Rs+d/S/n/dY+7DXCjXly8n777+mr84gof9Bw/K7B9/lgmffiZ79u43nR9bKbN+fDlDdEWrDp1lNeUafTH3i9eoT8/HpEypEpIh1K/cWR63Xu5c59tC9Tu8M4F906hBfXm6X1/JYy6kYKxas0YGDHleNm3ZGlOkmH1PmzjBHrcX3J94kFauXhOwfIiUKV1SRjw7WMqbC8R7c1GmfO6CBfLs8BflxEkj+DzrIQ6HDuwvrZrf68xRFEVRkgOM77NhyBCJwptvPvOrnjZDBik5eLAVNCHm3wmx0hh1/77+uhUvmI4ZypSRW5ctk7SJyDENxvb33pN1xvjxjn9U5bPPJO/tt9vv4ez+/XLgt99kz7Rpsm/mTPGdOGHbD/w9/wTyHxM18tKYZ2SxJ56Q0k8/bedfDfBm/AlzTIQkJcHkuuxczTlDXsgROnbsmD0HCBkMe6+IYL7XZrqUYLMRDuaGyFHVzi0nndJwBxN2c3cQKojNxAwwmxQo1IBTwt0fYgzBdSnPVbIVQ7vMRdumc1fZby4ebxM5+PJly0jndm2lRIlrbTjcDz//YsTEWtm9d69dNq5DYt34xBBM/eJLGTpyVIxjA9vp9v9pzifAnT4tndq2kSd7PWY/A4PDMibSOVx+3nab/imYP0wqG8XdxNzAYXnzmd8YnxF9y2XBwkXy14p/JDwgjpR1bqxwg3z0zltBvUqTpn0uw19+NdbbJtpKThHerAwZQu02ETvbd+yQDZs2+3/bvPsxy19TuJBMnvC+EXZJG79CURRFuTycO3pUFhqRcWrJkhiFCXhG5Lj1Vik1YIDkql5d0plnUxqeFTyvAlhtjPFtY8ZEi6HMFSrIrUHK/SaWTaNGyab+/W17eJqmv+YaqTJ5suSuXdt+7yXSGIKE0R348UfZ89VXcmTRIok0wiiNeYbSUgJk3CeS9SKZ4yozcqSUfPJJ3tT5v0jhkFdBYvybb74ZK8fivya1iCFFiYtkK4ZgwNBh8s33M4Ma+zHgszkM91D4nimKz57DY15CYogqdp2797Ael7hd2v79IzDatmopg5/qYz+7jB03Xt798KPg7XbaGg2fDbbtAW1Fbb/x8ktSq3rwUoHEjvZ8aoAdjDaoJyzwIWK2H+x0s9zQgf3k/uZawltRFCU5cswYrIubNpWIbduiy2Pz9GDiVz1z+fK2IELGokUlPWHSzrPFYv5tRcjvv9tleTKEmmdhiX79xBdHTizPhTy33SY5brzRmXMexhJa3KKFHP7+eytk8OhkqFRJqn/3nWQsXNguEx/kBu2fPVv2fP21HF+2TMLXrrXH4T7FrKFrxFU10+acVar4Z14lUEb4jTfesOWOKcecBBPskkPiP7kxLiqGlNRGshZDe/bukzYPPSx79x+I5akJivnBDzFTtqxZpWPbB2xuDLlN7iEmRgwBFdn+17uPLXxgBU0cXYQYanf/fTLoyZhiCJEy8tUxMuXzL8zvSNyeqrigLzMbIfTic8/K7fXijwnftXu39Bn0rPyzanVQQRQf9AdT9y6dpccjXZ25iqIoSnLk0Lx5srJ7dzm9alW0h8gFgcNTzRVIgSBavE8Ilolr6FZXmJR9/XUp3rOnneflhBEvcytWjK4Cx3ZyN28u1WbEzmNNCCrj7fz0U/n33XflrHmeuW0k8K/8Rx/JNR06+GekQAgloiKXfRFq4C9RHoQZMdDln3/+aQfljKvM8qWAnBHKSZMjw0Ciwco9f2r6nzF2XFKOGLrDiKFRCYqhlStX2mIChKmRd0J+SmCeyebNm+14QPv27bN5MOTHkDtDWB1lpek38nPcsDaKCzD4KKFuRYsWldWrV9vy0oDdSN4QaRSU2qa/mSisQB4M4Xl8Jo8MLyG5RYSZAVXuEMqE71HsgGuG64UKeJRop2gAeTwUhoiLZcuW2ZBA1sVOJaeHqniBUMKafWGzskyDBg1s2wIhPI39u9cN26RvKK3NsVJ0gv4gfA1RTU4PA8B64Tqk3fQt/cT3XI/kDJEH5MI9QVgcYKeXLl3a5ld5YZ/0HQPhsg3afscdd9hzm1SSJIb6DHpaZv/8a1Ax9N4bY5w5l4b5CxfJ0BEv2bA58ngCm3v+RybEXKSZ5K6GDeWhDu1sMYcO/+suS4OMMzRzxtR4xRDsNTfE6LfekR/NcZ4xne3NIXLhgmiDZyhADLmMn/ChvP/RJ3LyJD90/vWDdrdpF0dB+/i6dKkSMuCJ3lLT9GdiOHr0mAx98SX5+be5MX7ogu3L21+5c+eU7g91lrZG0CmKoijJn2PGsFs3cKAc+PZb+9l9MgV5siQZ+zwyhtv1RgwVM+IrkL8efFD2fPKJFS52WfMsLDV0qJR55hn7fVLYPHq0rH3qKfu85lgQQ4WffFLKjRwpIXEkyCd3Fi5cKHfffbfz6TzYH+RXYNThHcKgS4IpligwwDHYMawffvhhqVSpkt0v+3P3iVHrDcVPCWIIAR7auZPkGPAkHeqfGQQG6aTCm3esJ4QQg3jeeeed9jMV1whhZOwhdxnEAwn6FFigshlj+RDi6FYt69Wrl3xi7oF77rlHOhjBTvEAxC99i3j4/PPPrWBgwi5joo8pJMCYOggGBkpF6FDUgPGASMGYNm2adDf3HMIBAYKw6du3r72W3LF8OJ8tW7a06wTL02nfvr2tyOY9v506dbLjDQHbeeyxx+ygp4g/lnMLR7zyyiuxqsohCOkPjo2Ja+qdd96xg9nStxwPx8F2GPiUynNsyxVjrIO4mzBhghWUtI0xjOgnikfQly7cLxwr6wC5QQywSrlyoLw2RS1oO+LWbTtFGMaMGSPXXx93gbX4SFI1uYWLl8i/O3dKjuzZjADJbKd06dJKGdNZDRvUd5a6NBS9prA0ucM/ANbOPbvNBeU/GRjzdHTOHNmtku3Y5gEZ0Odxad70Ljv4KPw6jxFyDxt17m9nRqOo84eFSct7mtoTFB8MXHpH/bpSu0Z1ubZYUTl2/ITZb6RkzZol+phD0oZItco3SvVqwQeQ47s7TduzmXV2791n50Wci3Dafn4KDU1v+7K6uQAf7drFHEdvKV60qF0+MWTMmEEa3dbA7i/SXFwHGAjP3APn+8k/hZgpW7as5sYoYPqrtTzbv1+iBZeiKIry35PBPMPy33uvrbgWvn27LVWNhwbjEJMwrgmzyG8a+UHExLWOlR7m+ZG3cWPJ6VTGAoTKppdekq3G2HENLTfkjgFXk1qMwYVQPiF31vybdmSpUEHCTBso5Z0SwdvA4JMkzeP9cScKKjBYJ0YmRvLlBDuA8stUSuNtOoaj+xadKl1MsV4Om+spuVeTCzX2X4b775P08VQXRgC1bt3ajonTqlUrW74a4YmxjfcBw5txgahMxjIIRYx0jH3Gz8GrgxeJCnAMyLp48WJbCGO7ue+omsZfxANGPaILLw/fIzwpRw0sh42KQb906VK7XTwZLDNkyBAroJiP0Y83CU8NpanxljRp0sQKLbyLbAMxy3Iswxg/CAPaHgjjCJEHxoC/ePzwinHuESSIFMTV+PHjbXsRNHiENm3aZL1bDKBKv3gLO7AcbeVaoT30SZ06dWzb2daOHTtkwIABtgIc1xb5Z/w+UPSA7XJc9L9bjQ7xQ/u4FzhH9A19DoSQsg4ik0pyHDseOzyblStXtvtjXCT6nG1SxQ6vFEKWfmFeQuXJg5EkzxCN8I8DFBNC1IIl+l8KaOZZc4OuMwdNPg8XdCHTUTdWrGAry9GRrtfDhSIGrrp0YZnQJLSRH6xgA5IiqtI7JzE+WPfgwUPyp7mAD5qbkPU4Jv5WNEq2TOlSkiE0NEGPVUKQJ4XLc725wP76e4UjiPwDv1K04eZqVWyRhIvdj6IoivIfY55xB+fNs/k35BRRaIHx4gKfhXBy61YbhsYDn28Z0DW7MS4QPRazjh2A1TyT7Nrmb4k+fSRfI/9wCyfMs/dfY2RtGTOGV8vRHim8NmWNQCpplr0Ytr71lqw2RpLrGWKUkuJsN2Asl5QEA3zyJjwJZtZlhXLTb5n+jiusKCV4hrKnMbbXm69JxkYNnTmxYRDRDz/80IaUff3119ZuJCwRT1Dz5s2th+i5556zA3bi0SBcEGMde4k+wkvD+aMKIAIBIx0RsmjRIusJQtRgiJMHhseI+27y5MnWW4PhjlghhA7vEAIF7wYhd4iygQMHWsGDUMZmY11CxxAW999/vxUOlPx2Q9fmzJkT7fVgDKNnnnnGfkYoeMPMAFGC5wTBQzs5RiYEGseCRwyhPmzYsOixkhBplAHHU0nYG6LGBeHOtYI3C/8JggzvEWGCbIvQPjxP9EGVKsbGNO0FBBJ9i+eoj/P7gIBk7CWEGXYoYhSvGwIL8PAQ1ohnjfPWv39/efnll604wvNDOXI8QmwXDxEQWtesWTMbGog3zd3WhRC/eyQOEB4Y7oHT5RJCwIXCPhAObVvdJ53atZWGtzWQsHz57H6D/fgjUgLbmBQhBJy0wG0xJUYIQTqzfv6wfHYcps7t20nHtm3sMXRo84AVdOQIXQqBgiClXRXMxca22Qf7Yp93NW4o+cxNo0JIURTlKsA8f/IYA6fciy/KzcYgq2WMqZq//RZ7MoZUwfvui37g8wTIXKKE1DbGursM6xc3YqRwu3ZSuEMHKWT+nj10SHZMnChrjeG2xBgb240BQvEEVwjx1E2bI4eEGsNmpzECL3TaNWWKbDdG4tqnn5Yto0dLGkcIsV1ynLKULm3+q1xqJk2aZN+w88Y/JcL1e6ZgAUlb1D8uTVzs3bvX/sXwRqAQCtetWzfrKUGYIAAoHoFYxUPiGvG8pHZzqPCqIXoQRTgC8GpgvLMOgsYFuwpPH94cRAfhbXgosE3xfnTp0sUKKQQF3gxge4SwESaHXY14c3PM2L7bfox72uCCUMNzw/4QAHHhOgMQV2yT5fFucUzk7uA1c2EsJDxjgPgJhPXxGrEOXiFEJWKMkDxyoxCdCCjaRugduC8B3HYAA8viGUXcINQA0RaIt+2ASMODhnikz7weMcINEZ/g9tmFkiQxpCiKoihK8oLcHcYfCgkNjTnxwjDgJZh9gWgmd5lIY6BsHD5cVj/6qPxjDEYKNax4+GH52xhxO4zYOr16dXQVOxdMncjjx2Vljx7yd+fOSZrYx44XXpDTmzdHF0/glWXGihUlq6fCmXJp+eijj2wOTEoks7lu0zWoJ+nLlnHmBIeQQMDzAhQpIMkfbwpeO4xyQrq4F/CG8NnFFRlu+BYiCrGE94aQOfJ2vPlgGO+E05FLgxcIb5CbC0bxAEQX+yFvhxA5NzySv+QmISoQG64wQJARJga///57DCMfTxSiABHiLhMMtgGEyNEOcpIQPAgpcnw4ZhdC3giTA/ooENZHIOKlIYyvcOHCtm/wOLEdvEx4qPg3oi8Y9C9Ckn5Ys2aNFTeAtwyPkRe37ZwnoE30KeeUvnDnw65du2yYHLiFKC4UFUOKoiiKcrXjvKWNC8LrEERCZTNjaLlTmogIwX+ApyYYPgw+s47gZbjAifXwAplP0cUYEEI+Y6xd27u3ZA1SAUu5NGC8I4bwYKQkyHM7U6yYZG7fxliw8Ue5PGqEPZFDs2bNskn95AO5HgWECyFshHfh1SEsC+8NIpG/GPwY5IggoKCBW34cjw6eNQSRC2KBCYHA9hBgfAa8QXhCmDdlyhTrOWEZvkcMIVLGjh1rQ8zIo+HcMJEng0eIMDQ8VwglvFGEyLEe4iAwRM4FwYEHDG8Yy7MvQtAIDaxRo4Zty+DBg+33bBfvFPshhM075pQX9/joF7xHiD1ypPB8URiCnCJwo8Tc43f/EqqICKJtXHeIUvqBfC3CC13wWHLO3PaxPt42KsvhoeN7+oE8JjxN7dq1s+F2HJvrIbpQVAwpiqIoSioHg4N8HYyCwIl343FNmKPB1knsxPrWE+T+u3hxKT96tBR96CHzSbmcbNu2zYZNpRS4Ps4YQzzLI10lNBFCmXwbKrMRrvb4449bbwYiJiwszOZMYVwjVMg/QVRMnTrViiOKIWDQU3HtwQcfdLYm1jAHjH6KE2DUA8KF+wfPB0UO2AbeEQx9oHob1esooY1nZNCgQTafiPVsProRV3g8yFlCALFdRBFCCBGHR4biAAgzqrchRDg2thkMV3xMnDjRemwQMPSD236KPhB6R+4N37NdxAn7QZTRT8Egzwjx88ADD1ivDsdIbhJeLXKuyKlCFCEcgeMDjgfxRTl5hAyhdgg1QgLdKnF4lOgnV0iSZ0RuFUKRfCO34hyeKYQRnq3nn3/eniNKbNNXFCtxQx0vlCQVUFAuDzyITu/aZSsDpc+eXULz5HG+EYk0F9AZ3KTmdIWamzZd1qzONxfPmf375dzhw5KxUKFLul1FURQlebDKGIPbjaGDBwYRk7lCBbl1xQr7HZzZvduGxJ1ct058TojKlSJdtmySuVgxyVapkoTde6/kTOLb3eRGci2g4IXqWxj/eEpckmMBBesxNNdJlh7dJWuXzv6ZieSrr76y5wIBQmgZeT2ICS8Y4yTfIzTILyJRn/LVbrgWIFpI4kdE3XXXXdEhdIgAQtcQMBj+LIdgcEUXOS5sizA4xBAGP8UGKOTANkj+d8PdEAiM/4PXCpHB9igo8OWXX9riCog0PDfk5nAswSCMj+IGrMuxsHxgUQHC4sgdw1ODCEGE0Q7v4LsueIAQZVzHTLSfEEHGr6LPCHOj3yisgJeGtgPV+Oh3iizgteF48QKRB+TmZBHi9vHHH1sxSh9xHshHAgQiYX3cQ16oUocnidA4+pq249lC2CYVFUPJiIgTJ2RetWpy6t9/JczcrFWnTImO8z5gbo7F99xjL8SK48fLNeaCuxQcMhfxwoYNbfnSyp98YuPNFUVRlKuLhMSQ79w5ObVtm0SdPm2NKHDf7MaFu9zFmhFpM2eWUGM4IoquJlKCGMJYxitQvnx5Z87lFUP+KybxsLyVHMbQzfp4T8l0e0wRoyiXAhVDyYiI48flt5IlJWr/folIl07qrl0rWZwKIss7dpQDEyfaH4Yy778vRbp0sfMvlo0vvyyHFyyQ60ePlswBo/wqiqIoVwcJiSEXKk4RgsJbbe9YI8qFkxLEEJDc7/UIXGoxxPXGZiIdT0pCgohlGfQ3JG1aSXttccnS+n7J2LihhOTK6V9AUS4xKoaSEYihn0uUsH8pX1rxnXek2COP2PC536tUkRN//21jZssZMVTUEUPHzLzjzqjJWUqVklzVq9v5J9avl6PLlkmBpk3tQHh4nQ789JNkKFgwepkjf/4px1evlpCMGSVb+fKS3YnzVBRFUa4uEhJDhJswrgohRcTfU2qX0reEteA9oBQv4TSEqBC+wjxyEiivy6CKlOslhIeJdQj7cat5pVZSihhiAExv0vylEkM2ByxNGokqVFDS16kjGapVsYU6EiQkRELyh0l6cw2mLVzImakolw8VQ8kIRNAPhQpJ/iZN5OiCBZKzVi2pMnWqHPj5Z/nz9tulYOvWcmDKlGgxtMs8uFY/9JBEmYdYpPnBCTF/iw8dKmUHDZLtY8bIlieekJs2bbLjSYQbcbSwalXJfdddUnnyZNk+YYKs7d5dfGnTWrFlLgQpOWKElLrIgfMURVGU5EdCYoiyuiSSM7n5C8TvUykKocTYIgz8yL/xHJET8eSTT9pcBPIryAcgN4C8CHIMSAwnryGuZOzUQGoVQ3h+Mpr/niuQXzI2aSiZm90r6a+/zv9lMoKck4ULF9p8FXJoqPgW10C0Vxt4gKdPn25LUfNvcqiSWpb6auDKZkkqCWN+fCiQkKNGDdn3009y5sABOfbXX1a05Kxe3f7IkEeEANo+fLiEFi0qdYzQabB9u+Q1D6JtDIrHgygkxJYrjf4dM5/PkQgYSmFKkZ2vvSYZSpWSukYs1Tfr5rz1VtkycqSNF1cURVFSFwgccoRcIYQHiPLChFAxwjsJ4nh83CpaJD6TZ0LlKOZTAYqxQqhQRQUu1qd0rpK8KWXsALck8qUAoZ0mSyZJ362r5Hr7DckxeGCyFEKAZ5PrmhcAjB/kFkRIDVD0gIFSGRPpvffec+amXlQMJUMIayvQsqWEmofJqQ0bZMekSZKvbl3JedNN/thb88AKMTdtmXHjpHifPtbrc2LtWpEMGSQCMRPfWyjnuzJvvCHFHn1UTqxaZdf34co221VHoaIoSuqDSkyEtSGADh06ZMUOZWoRP4xTgteHN8dUgSKEjipbGNEII0LjihQpYsPrqKjFgJCgOUfJH8beuVjvHeFw6cx1kCZLZsnY7gEJ++5rydqnt4RWCD5ezZUEu4ZrumvXrvL+++/b69OFAVCpQsY1Tslq72Cj2EJ4jfr3728HRUU4UY0uLhD+iAsq81EG21t8hIprlPYmlNSF7VPNDVECLE9pbV48AFXnEGqBNtnWrVtl1KhRthw2Im6DsRHjgm3SLtrPsozF44I3l7La3LuU2g70CuERpnQ1++F7xiAKBvc67WZ8JvqI46eNgHeYY6ccN6WxCcGltLYLAnTChAl2HbyoeJS9cK6oNMd4UZwrBp/1QgU7SnBzfIxhxAuZJGM6WkkmnDt2zPdd5sy+f3r18p3ascM3K0cO328VK/pm5crlWz9smO/QH3/4fjGnbNsHH9jl/+nZ0/ddSIhvTpUqvnk1a/p+KFjQ913WrL7I06d9m8eO9c0yy57YtMkuG27+zjTbW9q+vf287MEHfd+nS+ebU7Wqb16tWr5ZefL4fihQwBdx8qT9XlEURbl6WNm7t+9780z4xkwzzTSnQgXnm/Ps3bvXZ4wLnzE8fMa48a1YscI3ZMgQnzGkfJs3b/YZw8p3zDyn5syZ49thnlELFizwjRw50mcMGd/MmTPtNljPGD8+Y/jYz6kZY+z5jFjEmk2WU2Zjb3zxxRdOa88TFR7u21HmOt+OUuV8O0rGPe0204FS5X17a9f1HXpqgO/cli3OFpIP7733ns+IHF+dOnV8pUqV8v3666/ON36MuPelTZvWZ4xpZ46xxc6ds9c856548eK+66+/3pfO2EtGQPgOHDjgLBWTO+64w2eEha906dK+EGOXTZ482c4/c+aMzwhO299ffvmlnQfsIzQ01H4HRiTYdjzyyCP2c926dX0VzD1qBIL9DEYo+YoWLerLZWxCvstj7LawsLBYx+TCfZo9e3ZfRWNHVjF2ohFkzjfmHEdF2Xubdhkx4sz1Y4SY3UfevHntsefMmdP23eLFi50lzsNvRvXq1X1Zje2ZKVMm259GAPmMSLL7ow9LlizpK1OmjO0fIz59RuTY/bds2dL2K33G+s2aNfPt37/fbnffvn2+Ro0a2XXKlSvnK1asmN0WvzesS/+1adPGl8PYtZzbypUr+5YvX27XTQoqhpIRrhha8eij9vOcatV8P5gLlQfYsX/+8R0yDx7E0L8ff+w7sX6972fz75XOxR1x4oRvWbt2vm/MhYMY2mrEEOseXrTIF2kumk1jxtgH4PKuXX1HlizxzTH/Xv/CC3bds0eO+P68807frNy5VQwpiqJchSQkhjAu/vjjD99nn32WKKNizZo1vpUrVzqfYhIREWHF0IwZM3xHjx515qY+krsYuvfee30njO0QSEJiaKeZDpYs79t1Uy3f4WeG+s4s+8tZM/mBEY0hvsUINQQ917kL1ztigWnw4MH2ugVERL58+XyNGzf2rV692nfw4EFrhGO49+zZ0y4TyG233ebLnz+/b9OmTVZANG/e3M5HQOQ2thXXQe3ate08oB0ZMmTwderUyX5GDLH9bt262c/16tWzIsYVQ3zP+ogN7qvjx4/bFxAIhapVqwa9z6ZNm2bPsyt4Dx06ZP/Crl27rLCiDeyH7QPbob/oN0QN60yfPt0KyhYtWvjCzbXhBWFC3yIGEVxLly71RUZG+mbPnm3FXvv27X0bN2707dy50/fYY4/Z9rjiiz4qVKiQPS/jxo2zoqtPnz52m4hRlh02bJhvz549vlWrVtnzgTji9wkRRj/TdoTX4cOHrfBMKhoml8xgYLG0jlv02i5dJLP5m6tmTclGcuO5c2IzfiIiJH3evBJSuLDsnT5djJCR3ypUkH0zZkhGqvdERkqGa6+1v3ZLWrSQ+VWrytq+ff0xkWYbGYsUkcj8+eXf8ePtunMqVpSDP/4ooTrGkKIoSqqE0DgGMuQvoSkMJMm/yQECKskZA86G3vBvQlYI5QHCYgiJcWGgSdYn7M6dz4CRboiS9y/bZD9MJHLzmXAe9qFcPsgNe+655y44lNFm1YSGSrqHOkqed96SnM8PkdDKybcSbefOnW0oGeFwFPkwosT5RmT48OF2oFBjpNtQLXLegIFI9+/fb78nL45w0QEDBthBRrnuje1sl/PCdgnzMmLA5t8ZMWXnE/7FfWDEgh1MlEIlSYHwMgZkZbBXIyLsILlGHNgwR/bJ/RUIoW8MzNrX2H9GZNj7y4XwOSNW7PYIiTMCw85nH0Z82LBCiqNQUILBUCmYQvjftm3b7HIuHDeDnmbOnFmMsLIDrhJCO3/+fHvc9Bvhs/Qz/cmAtYTGuZCnda2xV7t37y4NGza0OUzkG1KsxYgrG2LHcVx33XX2ONjm999/b9vFuWFA2qZNm9pwPAaDTSoqhpIR1NXPfe+9ktUZfTtbtWqSzlyo+YyggXR58kjaRo0kk7nYQs2FUGHSJMlsRFJEeLhc9+qrUv711yWXuTl4WFFSu/yHH0pGc/Nmr1VLbjYPrbBOnSS72XaGsDCp8MknkslclFHmwVNx3DgpO2qU5DQ3qzvIq6IoipJ6oEochk3NmjVtHgGV5Eisprz27NmzbV7At99+aw1LjBoMHwxpcgXIt6CynGskkluxefNmW1yBPAzi/RnBntj+v//+2+YgwaBBg6zxxX4w6tgGeRLkAWBExZWnoFwc7nljdP/EEJ0TlCmjhLZsLvm/+0qy9esroVWS/3AcQ4YMkc8//9yK7IEDB9rcHSAnDkO6srGJ6AeuNarqecHw9kI5ea+Y8oIAQGyQG8P989BDD9nPo0ePliZNmtjrHyN/nLG3gO1wv7jbcw35QKEVuD/a4AVRBIH5NlC7dm17PyEaxowZI/369bP9AOQdIUKeffZZW02PdoKb1+QWUnFB3PHyIth+eOFBu5nclx8cO2KL3wmXnDlz2vZ7RRm46/BbwXe0MdzYtezTK3AQQHxmGfoYUcVvBRUsOxn7dubMmc6SF46KoWREWnPjVf3sMylqFDnkNGKounn4lDQPCMh2/fVSY9YsydPAPwJznjp1pIY5+bWNgi7YvLkUffhhqTpliqRzbo4i5uFyy7x5UunttyVv/fpyo7lwrjU3KuS9/XapaZR0TUSSEVwlzA9EZfPjGOJUm1MURVFSD7yh3bdvn4wYMcIWSOCNMcYJBghvt3nbjbcGg8frLcJoopAC67qFEwYPHmwLLvBWfurUqfaNuGt8kTTtJnKzHYya9u3b232SrI1xR0I/b6uT+hZdiRvezJPIzlv4hEgnaSSjMcZD8uWV0LvvlHyfT5VcL42wA6Hy8jYlgNcSDwcivGzZsjJjxgw7HwGOJ4jr8emnn7bXIQUFgDG1uB+++eabaA8lQonl8VIEE0QY9Fy7y5Yts8Z59erV7T6ptMhLBDxTGPnMw5hHPHEvudtHKLENBIQL+6EdwF8GQmb7CDmgHPhvv/1mvT+BBRCA9nIvsf+bbrrJfsbDxH3F/YVHiXsPT9DixYvt/Vi1alUrWBDLbB/wOuE1LlOmTILFNlwxx9hjeNfwHrtihxcqvEzBo+Xi9iWeKX5n8KDxm4NA5SXMokWL7Pf0HaXAKZrACxv6De8z4pbjQzzhuUoqKoYURVEU5SqHgbx5z+1OkY5wceGNL+FAbgUpPDa8UUfAYMwgjH799VdrkGDMYfRgRPHGmze+RCRgqABhLBgvGIcYVrzNnTJlig2xIWQG8UTlLYwZ3kRj0CCk+Ddv1oGwGwy3lAx9klzAkCXkCAMTcZAQGaJ8EmWM7JBW90mOsaMl12uvSPoypZ1vUw5dunSR1q1bWw8I1xtjCSHsEUFUQKTK2siRI62BvmTJEuvRZMwdQsPwJOEZxaPSqFEj6+VgO8Hgeuc+KViwoL12gfWpvojnFG8ooovwMSqfIQLq169vw8F4UcCLAzxRhMAB1w73C15V2sj9hljjHmzVqpXd3v3332/vUdoUTAwRcnb33Xfb9detW2dFHl7BF154wd6TtIs2cc8jGrknud/pM8IB27Zta79nvDBeYFAyHy9SMDh+fkPca55qdUzc21SD4y+hevQ5n4H+4iUKYYocC+vjdUYQItIIrWOf9D9he3iBuHYR8vz20C629fbbb9vtEUqXVHTQVUVRFEW5yjlgjK7jvDk1RhiDbKfPl08Kt2vnfOvP3+GNNsYQ4oawIQwvxAzzeCuN4cZnDD4MFQQMBhtvkDGSeBvMW+pffvnFvr0mzIXBWhnckjfCGGMMQopRyhtf9sM6GIh4mNi2m6fEdni7HszISynwBh6DOJgn4UqA4ct5qlChgg0H429iYNDVY6+8JhkbN5QMN9/kzE2ZECZGiBjeSYxoPJ94SMiXIjQTcQR4RlgOEdSiRQvrDcF7RJ4RYZ81atSwwggBEwzC8djHxIkT7WfEAQY9eS+U5wa2wz4RMxjybsgpLx64NzDsO3ToYJelfXhuuMf4bvz48fZ8UiYcD8v69eut0CKXB9Hihst5IfeJ40XYVKtWzYaeMrgu4gIx5IbGAe0hrBXxxUsIQtAQWtzH5EoR9tesWbMYnisXQmwRdLwMYR94doD7nLBA8pPw5PBbQG4Q1yLSg5Ld/KbQV+ybY+E7FzxFHDcild8GvM0IJ7xT9Mu0adPs9mmvK4z43UgKKoYURVEURVEuMbwlJ3znvwKDF28Gfy8UHzlkKSQULiEQIYh9xDfGPMY3xnTgYLPM45x5hQXC3PWMuh6fYLB91kWwAKY1nk7C27y5R+48jHtAJPAygTA9PLMubA+RwXYIqWPf/AU8s3zPNgKPIRC2j0ihXUxsj2uSa8LbLo4dmOeKd/bD+lxDCYkMBAnbpk1e8U+fEALIX9rqFVOsgzeI5enfYLAM549lgnml3G3Tdxfz0kHFkKIoiqIoiqIoqRLNGVIURVEURVEUJVWiYkhRFEVRFEVRlFSJiiFFURRFURRFUVIlKoYURVEURVEURUmVqBhSFEVRFEVRFCVVomJIURRFURRFUZRUiYohRVEURVEURVFSJSqGFEVRFEVRFEVJlagYUhRFURRFURQlVaJiSFEURVEURVGUVImKIUVRFEVRFEVRUiUqhhRFURRFURRFSZWoGFIURVEURVEUJVWiYkhRFEVRFEVRlFSIyP8Dre9met9C13AAAAAASUVORK5CYII=)"
      ],
      "metadata": {
        "id": "le4_eGn2lT5I"
      }
    },
    {
      "cell_type": "markdown",
      "source": [
        "# **Exercícios**\n",
        "\n",
        "Aula 06 - Exercícios\n",
        "\n",
        "Prof. Anderson Vanin\n",
        "Aluno: Enzo Tavares"
      ],
      "metadata": {
        "id": "Phk6B3oJljx1"
      }
    },
    {
      "cell_type": "code",
      "source": [
        "import numpy as np\n",
        "import pandas as pd\n",
        "import matplotlib.pyplot as plt\n",
        "import seaborn as sns"
      ],
      "metadata": {
        "id": "m_gOjtX4ncIh"
      },
      "execution_count": 41,
      "outputs": []
    },
    {
      "cell_type": "markdown",
      "source": [
        "# 01 - Criação e Manipulação de Arrays\n",
        "\n",
        "Crie um array Numpy com 10 números inteiros aleatórios entre 1 e 20 e extraia os elementos pares."
      ],
      "metadata": {
        "id": "toyvNQMoQlZN"
      }
    },
    {
      "cell_type": "code",
      "source": [
        "array = np.random.randint(1, 21, size=10)\n",
        "pares = [x for x in array if x % 2 == 0]\n",
        "pares"
      ],
      "metadata": {
        "id": "BMjObvqKQusb",
        "colab": {
          "base_uri": "https://localhost:8080/"
        },
        "outputId": "2d132184-a06c-4bb2-e1ee-b5d6506ef4b3"
      },
      "execution_count": 77,
      "outputs": [
        {
          "output_type": "execute_result",
          "data": {
            "text/plain": [
              "[18, 12, 6, 20, 20, 16, 18]"
            ]
          },
          "metadata": {},
          "execution_count": 77
        }
      ]
    },
    {
      "cell_type": "markdown",
      "source": [
        "# 02 - Operações Aritméticas com Arrays\n",
        "\n",
        "Crie dois arrays de 10 números inteiros aleatórios entre 0 e 50 e realize operações de soma, subtração, multiplicação e divisão elemento a elemento."
      ],
      "metadata": {
        "id": "wHIp2FbCQ0ys"
      }
    },
    {
      "cell_type": "code",
      "source": [
        "array = np.random.randint(0, 51, size=10)\n",
        "soma = np.sum(array)\n",
        "x1 = array\n",
        "x2 = array\n",
        "subtracao = np.subtract(x1, x2)\n",
        "multiplicacao = np.multiply(x1, x2)\n",
        "divisao = np.divide(x1, x2)\n",
        "print(array)\n",
        "print(soma)\n",
        "print(subtracao)\n",
        "print(multiplicacao)\n",
        "print(divisao)"
      ],
      "metadata": {
        "id": "O6gO1O4bQ5Ma",
        "colab": {
          "base_uri": "https://localhost:8080/"
        },
        "outputId": "5ca9042d-88e8-4d9b-8220-ea5c858babb4"
      },
      "execution_count": 9,
      "outputs": [
        {
          "output_type": "stream",
          "name": "stdout",
          "text": [
            "[ 2 36 44 44 34 32 36 22  3  1]\n",
            "254\n",
            "[0 0 0 0 0 0 0 0 0 0]\n",
            "[   4 1296 1936 1936 1156 1024 1296  484    9    1]\n",
            "[1. 1. 1. 1. 1. 1. 1. 1. 1. 1.]\n"
          ]
        }
      ]
    },
    {
      "cell_type": "markdown",
      "source": [
        "# 03 - Indexação e Slicing\n",
        "\n",
        "Dado um array Numpy com 20 números aleatórios entre 10 e 100, extraia os elementos entre a 5ª e a 15ª posição."
      ],
      "metadata": {
        "id": "6vvX7YgPQ-g0"
      }
    },
    {
      "cell_type": "code",
      "source": [
        "array = np.random.randint(10, 100, size=20)\n",
        "elementos = array[5:15]\n",
        "print(elementos)\n"
      ],
      "metadata": {
        "id": "5FGvV2-8RA-E",
        "colab": {
          "base_uri": "https://localhost:8080/"
        },
        "outputId": "a3021dc7-8b74-451f-9951-4e10939611e5"
      },
      "execution_count": 14,
      "outputs": [
        {
          "output_type": "stream",
          "name": "stdout",
          "text": [
            "[41 80 14 88 88 61 23 59 54 74]\n"
          ]
        }
      ]
    },
    {
      "cell_type": "markdown",
      "source": [
        "# 04 - Manipulação de Matrizes\n",
        "\n",
        "Crie uma matriz 3x3 com valores aleatórios entre 0 e 1, e encontre o valor máximo e mínimo."
      ],
      "metadata": {
        "id": "VJ2fS5vFREId"
      }
    },
    {
      "cell_type": "code",
      "source": [
        "matriz = np.random.rand(3, 3)\n",
        "maximo = np.max(matriz)\n",
        "minimo = np.min(matriz)\n",
        "\n",
        "matriz = np.around(matriz,2)\n",
        "maximo = round(maximo,2)\n",
        "minimo = round(minimo,2)\n",
        "\n",
        "print(matriz)\n",
        "print(maximo)\n",
        "print(minimo)"
      ],
      "metadata": {
        "id": "jesghkKBRF71",
        "colab": {
          "base_uri": "https://localhost:8080/"
        },
        "outputId": "a14b6a59-1101-4064-db77-5bc55459378e"
      },
      "execution_count": 26,
      "outputs": [
        {
          "output_type": "stream",
          "name": "stdout",
          "text": [
            "[[0.93 0.15 0.06]\n",
            " [0.93 0.55 0.49]\n",
            " [0.1  0.41 0.97]]\n",
            "0.97\n",
            "0.06\n"
          ]
        }
      ]
    },
    {
      "cell_type": "markdown",
      "source": [
        "# 05 - Transformações em Arrays\n",
        "\n",
        "Crie um array de 12 números inteiros aleatórios entre 1 e 100 e reshape-o para uma matriz 4x3."
      ],
      "metadata": {
        "id": "B5TZltweRJsV"
      }
    },
    {
      "cell_type": "code",
      "source": [
        "array = np.random.randint(1, 100, size=12)\n",
        "matriz = array.reshape(4, 3)\n",
        "print(matriz)"
      ],
      "metadata": {
        "id": "o3YeiLJJRL11",
        "colab": {
          "base_uri": "https://localhost:8080/"
        },
        "outputId": "aa00457c-0b7a-445c-eb07-85825b8a2714"
      },
      "execution_count": 28,
      "outputs": [
        {
          "output_type": "stream",
          "name": "stdout",
          "text": [
            "[[67 69 37]\n",
            " [ 2 72 81]\n",
            " [92 51 54]\n",
            " [61 55 63]]\n"
          ]
        }
      ]
    },
    {
      "cell_type": "markdown",
      "source": [
        "# 06 - Criação de DataFrames\n",
        "\n",
        "Crie um DataFrame com dados de 5 pessoas, onde cada pessoa tem nome, idade (entre 20 e 40), e cidade (escolha 3 cidades aleatórias)."
      ],
      "metadata": {
        "id": "5hU04GL8RRL8"
      }
    },
    {
      "cell_type": "code",
      "source": [
        "nomes = pd.Series(['Vanin','Luciene', 'Vazz', 'Luciana', 'Carlos'])\n",
        "idade = np.random.randint(20,40, size=5)\n",
        "cidade = pd.Series(['São Paulo', 'Rio de Janeiro', 'Belo Horizonte', 'Curitiba', 'Salvador'])\n",
        "df = pd.DataFrame({'Nome': nomes, 'Idade': idade, 'Cidade': cidade})\n",
        "df"
      ],
      "metadata": {
        "id": "SrC3jXFPRTR8",
        "colab": {
          "base_uri": "https://localhost:8080/",
          "height": 206
        },
        "outputId": "40537574-54d0-4d25-eee6-f1b5c5773c0b"
      },
      "execution_count": 33,
      "outputs": [
        {
          "output_type": "execute_result",
          "data": {
            "text/plain": [
              "      Nome  Idade          Cidade\n",
              "0    Vanin     37       São Paulo\n",
              "1  Luciene     31  Rio de Janeiro\n",
              "2     Vazz     36  Belo Horizonte\n",
              "3  Luciana     36        Curitiba\n",
              "4   Carlos     37        Salvador"
            ],
            "text/html": [
              "\n",
              "  <div id=\"df-82c6a831-c7d2-403b-ab0f-b9577a56f0a3\" class=\"colab-df-container\">\n",
              "    <div>\n",
              "<style scoped>\n",
              "    .dataframe tbody tr th:only-of-type {\n",
              "        vertical-align: middle;\n",
              "    }\n",
              "\n",
              "    .dataframe tbody tr th {\n",
              "        vertical-align: top;\n",
              "    }\n",
              "\n",
              "    .dataframe thead th {\n",
              "        text-align: right;\n",
              "    }\n",
              "</style>\n",
              "<table border=\"1\" class=\"dataframe\">\n",
              "  <thead>\n",
              "    <tr style=\"text-align: right;\">\n",
              "      <th></th>\n",
              "      <th>Nome</th>\n",
              "      <th>Idade</th>\n",
              "      <th>Cidade</th>\n",
              "    </tr>\n",
              "  </thead>\n",
              "  <tbody>\n",
              "    <tr>\n",
              "      <th>0</th>\n",
              "      <td>Vanin</td>\n",
              "      <td>37</td>\n",
              "      <td>São Paulo</td>\n",
              "    </tr>\n",
              "    <tr>\n",
              "      <th>1</th>\n",
              "      <td>Luciene</td>\n",
              "      <td>31</td>\n",
              "      <td>Rio de Janeiro</td>\n",
              "    </tr>\n",
              "    <tr>\n",
              "      <th>2</th>\n",
              "      <td>Vazz</td>\n",
              "      <td>36</td>\n",
              "      <td>Belo Horizonte</td>\n",
              "    </tr>\n",
              "    <tr>\n",
              "      <th>3</th>\n",
              "      <td>Luciana</td>\n",
              "      <td>36</td>\n",
              "      <td>Curitiba</td>\n",
              "    </tr>\n",
              "    <tr>\n",
              "      <th>4</th>\n",
              "      <td>Carlos</td>\n",
              "      <td>37</td>\n",
              "      <td>Salvador</td>\n",
              "    </tr>\n",
              "  </tbody>\n",
              "</table>\n",
              "</div>\n",
              "    <div class=\"colab-df-buttons\">\n",
              "\n",
              "  <div class=\"colab-df-container\">\n",
              "    <button class=\"colab-df-convert\" onclick=\"convertToInteractive('df-82c6a831-c7d2-403b-ab0f-b9577a56f0a3')\"\n",
              "            title=\"Convert this dataframe to an interactive table.\"\n",
              "            style=\"display:none;\">\n",
              "\n",
              "  <svg xmlns=\"http://www.w3.org/2000/svg\" height=\"24px\" viewBox=\"0 -960 960 960\">\n",
              "    <path d=\"M120-120v-720h720v720H120Zm60-500h600v-160H180v160Zm220 220h160v-160H400v160Zm0 220h160v-160H400v160ZM180-400h160v-160H180v160Zm440 0h160v-160H620v160ZM180-180h160v-160H180v160Zm440 0h160v-160H620v160Z\"/>\n",
              "  </svg>\n",
              "    </button>\n",
              "\n",
              "  <style>\n",
              "    .colab-df-container {\n",
              "      display:flex;\n",
              "      gap: 12px;\n",
              "    }\n",
              "\n",
              "    .colab-df-convert {\n",
              "      background-color: #E8F0FE;\n",
              "      border: none;\n",
              "      border-radius: 50%;\n",
              "      cursor: pointer;\n",
              "      display: none;\n",
              "      fill: #1967D2;\n",
              "      height: 32px;\n",
              "      padding: 0 0 0 0;\n",
              "      width: 32px;\n",
              "    }\n",
              "\n",
              "    .colab-df-convert:hover {\n",
              "      background-color: #E2EBFA;\n",
              "      box-shadow: 0px 1px 2px rgba(60, 64, 67, 0.3), 0px 1px 3px 1px rgba(60, 64, 67, 0.15);\n",
              "      fill: #174EA6;\n",
              "    }\n",
              "\n",
              "    .colab-df-buttons div {\n",
              "      margin-bottom: 4px;\n",
              "    }\n",
              "\n",
              "    [theme=dark] .colab-df-convert {\n",
              "      background-color: #3B4455;\n",
              "      fill: #D2E3FC;\n",
              "    }\n",
              "\n",
              "    [theme=dark] .colab-df-convert:hover {\n",
              "      background-color: #434B5C;\n",
              "      box-shadow: 0px 1px 3px 1px rgba(0, 0, 0, 0.15);\n",
              "      filter: drop-shadow(0px 1px 2px rgba(0, 0, 0, 0.3));\n",
              "      fill: #FFFFFF;\n",
              "    }\n",
              "  </style>\n",
              "\n",
              "    <script>\n",
              "      const buttonEl =\n",
              "        document.querySelector('#df-82c6a831-c7d2-403b-ab0f-b9577a56f0a3 button.colab-df-convert');\n",
              "      buttonEl.style.display =\n",
              "        google.colab.kernel.accessAllowed ? 'block' : 'none';\n",
              "\n",
              "      async function convertToInteractive(key) {\n",
              "        const element = document.querySelector('#df-82c6a831-c7d2-403b-ab0f-b9577a56f0a3');\n",
              "        const dataTable =\n",
              "          await google.colab.kernel.invokeFunction('convertToInteractive',\n",
              "                                                    [key], {});\n",
              "        if (!dataTable) return;\n",
              "\n",
              "        const docLinkHtml = 'Like what you see? Visit the ' +\n",
              "          '<a target=\"_blank\" href=https://colab.research.google.com/notebooks/data_table.ipynb>data table notebook</a>'\n",
              "          + ' to learn more about interactive tables.';\n",
              "        element.innerHTML = '';\n",
              "        dataTable['output_type'] = 'display_data';\n",
              "        await google.colab.output.renderOutput(dataTable, element);\n",
              "        const docLink = document.createElement('div');\n",
              "        docLink.innerHTML = docLinkHtml;\n",
              "        element.appendChild(docLink);\n",
              "      }\n",
              "    </script>\n",
              "  </div>\n",
              "\n",
              "\n",
              "<div id=\"df-92d3e321-e0bb-48fa-ae95-1a473d1dc4ce\">\n",
              "  <button class=\"colab-df-quickchart\" onclick=\"quickchart('df-92d3e321-e0bb-48fa-ae95-1a473d1dc4ce')\"\n",
              "            title=\"Suggest charts\"\n",
              "            style=\"display:none;\">\n",
              "\n",
              "<svg xmlns=\"http://www.w3.org/2000/svg\" height=\"24px\"viewBox=\"0 0 24 24\"\n",
              "     width=\"24px\">\n",
              "    <g>\n",
              "        <path d=\"M19 3H5c-1.1 0-2 .9-2 2v14c0 1.1.9 2 2 2h14c1.1 0 2-.9 2-2V5c0-1.1-.9-2-2-2zM9 17H7v-7h2v7zm4 0h-2V7h2v10zm4 0h-2v-4h2v4z\"/>\n",
              "    </g>\n",
              "</svg>\n",
              "  </button>\n",
              "\n",
              "<style>\n",
              "  .colab-df-quickchart {\n",
              "      --bg-color: #E8F0FE;\n",
              "      --fill-color: #1967D2;\n",
              "      --hover-bg-color: #E2EBFA;\n",
              "      --hover-fill-color: #174EA6;\n",
              "      --disabled-fill-color: #AAA;\n",
              "      --disabled-bg-color: #DDD;\n",
              "  }\n",
              "\n",
              "  [theme=dark] .colab-df-quickchart {\n",
              "      --bg-color: #3B4455;\n",
              "      --fill-color: #D2E3FC;\n",
              "      --hover-bg-color: #434B5C;\n",
              "      --hover-fill-color: #FFFFFF;\n",
              "      --disabled-bg-color: #3B4455;\n",
              "      --disabled-fill-color: #666;\n",
              "  }\n",
              "\n",
              "  .colab-df-quickchart {\n",
              "    background-color: var(--bg-color);\n",
              "    border: none;\n",
              "    border-radius: 50%;\n",
              "    cursor: pointer;\n",
              "    display: none;\n",
              "    fill: var(--fill-color);\n",
              "    height: 32px;\n",
              "    padding: 0;\n",
              "    width: 32px;\n",
              "  }\n",
              "\n",
              "  .colab-df-quickchart:hover {\n",
              "    background-color: var(--hover-bg-color);\n",
              "    box-shadow: 0 1px 2px rgba(60, 64, 67, 0.3), 0 1px 3px 1px rgba(60, 64, 67, 0.15);\n",
              "    fill: var(--button-hover-fill-color);\n",
              "  }\n",
              "\n",
              "  .colab-df-quickchart-complete:disabled,\n",
              "  .colab-df-quickchart-complete:disabled:hover {\n",
              "    background-color: var(--disabled-bg-color);\n",
              "    fill: var(--disabled-fill-color);\n",
              "    box-shadow: none;\n",
              "  }\n",
              "\n",
              "  .colab-df-spinner {\n",
              "    border: 2px solid var(--fill-color);\n",
              "    border-color: transparent;\n",
              "    border-bottom-color: var(--fill-color);\n",
              "    animation:\n",
              "      spin 1s steps(1) infinite;\n",
              "  }\n",
              "\n",
              "  @keyframes spin {\n",
              "    0% {\n",
              "      border-color: transparent;\n",
              "      border-bottom-color: var(--fill-color);\n",
              "      border-left-color: var(--fill-color);\n",
              "    }\n",
              "    20% {\n",
              "      border-color: transparent;\n",
              "      border-left-color: var(--fill-color);\n",
              "      border-top-color: var(--fill-color);\n",
              "    }\n",
              "    30% {\n",
              "      border-color: transparent;\n",
              "      border-left-color: var(--fill-color);\n",
              "      border-top-color: var(--fill-color);\n",
              "      border-right-color: var(--fill-color);\n",
              "    }\n",
              "    40% {\n",
              "      border-color: transparent;\n",
              "      border-right-color: var(--fill-color);\n",
              "      border-top-color: var(--fill-color);\n",
              "    }\n",
              "    60% {\n",
              "      border-color: transparent;\n",
              "      border-right-color: var(--fill-color);\n",
              "    }\n",
              "    80% {\n",
              "      border-color: transparent;\n",
              "      border-right-color: var(--fill-color);\n",
              "      border-bottom-color: var(--fill-color);\n",
              "    }\n",
              "    90% {\n",
              "      border-color: transparent;\n",
              "      border-bottom-color: var(--fill-color);\n",
              "    }\n",
              "  }\n",
              "</style>\n",
              "\n",
              "  <script>\n",
              "    async function quickchart(key) {\n",
              "      const quickchartButtonEl =\n",
              "        document.querySelector('#' + key + ' button');\n",
              "      quickchartButtonEl.disabled = true;  // To prevent multiple clicks.\n",
              "      quickchartButtonEl.classList.add('colab-df-spinner');\n",
              "      try {\n",
              "        const charts = await google.colab.kernel.invokeFunction(\n",
              "            'suggestCharts', [key], {});\n",
              "      } catch (error) {\n",
              "        console.error('Error during call to suggestCharts:', error);\n",
              "      }\n",
              "      quickchartButtonEl.classList.remove('colab-df-spinner');\n",
              "      quickchartButtonEl.classList.add('colab-df-quickchart-complete');\n",
              "    }\n",
              "    (() => {\n",
              "      let quickchartButtonEl =\n",
              "        document.querySelector('#df-92d3e321-e0bb-48fa-ae95-1a473d1dc4ce button');\n",
              "      quickchartButtonEl.style.display =\n",
              "        google.colab.kernel.accessAllowed ? 'block' : 'none';\n",
              "    })();\n",
              "  </script>\n",
              "</div>\n",
              "\n",
              "  <div id=\"id_a2274533-668c-43ce-bfda-ce0da1ead14f\">\n",
              "    <style>\n",
              "      .colab-df-generate {\n",
              "        background-color: #E8F0FE;\n",
              "        border: none;\n",
              "        border-radius: 50%;\n",
              "        cursor: pointer;\n",
              "        display: none;\n",
              "        fill: #1967D2;\n",
              "        height: 32px;\n",
              "        padding: 0 0 0 0;\n",
              "        width: 32px;\n",
              "      }\n",
              "\n",
              "      .colab-df-generate:hover {\n",
              "        background-color: #E2EBFA;\n",
              "        box-shadow: 0px 1px 2px rgba(60, 64, 67, 0.3), 0px 1px 3px 1px rgba(60, 64, 67, 0.15);\n",
              "        fill: #174EA6;\n",
              "      }\n",
              "\n",
              "      [theme=dark] .colab-df-generate {\n",
              "        background-color: #3B4455;\n",
              "        fill: #D2E3FC;\n",
              "      }\n",
              "\n",
              "      [theme=dark] .colab-df-generate:hover {\n",
              "        background-color: #434B5C;\n",
              "        box-shadow: 0px 1px 3px 1px rgba(0, 0, 0, 0.15);\n",
              "        filter: drop-shadow(0px 1px 2px rgba(0, 0, 0, 0.3));\n",
              "        fill: #FFFFFF;\n",
              "      }\n",
              "    </style>\n",
              "    <button class=\"colab-df-generate\" onclick=\"generateWithVariable('df')\"\n",
              "            title=\"Generate code using this dataframe.\"\n",
              "            style=\"display:none;\">\n",
              "\n",
              "  <svg xmlns=\"http://www.w3.org/2000/svg\" height=\"24px\"viewBox=\"0 0 24 24\"\n",
              "       width=\"24px\">\n",
              "    <path d=\"M7,19H8.4L18.45,9,17,7.55,7,17.6ZM5,21V16.75L18.45,3.32a2,2,0,0,1,2.83,0l1.4,1.43a1.91,1.91,0,0,1,.58,1.4,1.91,1.91,0,0,1-.58,1.4L9.25,21ZM18.45,9,17,7.55Zm-12,3A5.31,5.31,0,0,0,4.9,8.1,5.31,5.31,0,0,0,1,6.5,5.31,5.31,0,0,0,4.9,4.9,5.31,5.31,0,0,0,6.5,1,5.31,5.31,0,0,0,8.1,4.9,5.31,5.31,0,0,0,12,6.5,5.46,5.46,0,0,0,6.5,12Z\"/>\n",
              "  </svg>\n",
              "    </button>\n",
              "    <script>\n",
              "      (() => {\n",
              "      const buttonEl =\n",
              "        document.querySelector('#id_a2274533-668c-43ce-bfda-ce0da1ead14f button.colab-df-generate');\n",
              "      buttonEl.style.display =\n",
              "        google.colab.kernel.accessAllowed ? 'block' : 'none';\n",
              "\n",
              "      buttonEl.onclick = () => {\n",
              "        google.colab.notebook.generateWithVariable('df');\n",
              "      }\n",
              "      })();\n",
              "    </script>\n",
              "  </div>\n",
              "\n",
              "    </div>\n",
              "  </div>\n"
            ],
            "application/vnd.google.colaboratory.intrinsic+json": {
              "type": "dataframe",
              "variable_name": "df",
              "summary": "{\n  \"name\": \"df\",\n  \"rows\": 5,\n  \"fields\": [\n    {\n      \"column\": \"Nome\",\n      \"properties\": {\n        \"dtype\": \"string\",\n        \"num_unique_values\": 5,\n        \"samples\": [\n          \"Luciene\",\n          \"Carlos\",\n          \"Vazz\"\n        ],\n        \"semantic_type\": \"\",\n        \"description\": \"\"\n      }\n    },\n    {\n      \"column\": \"Idade\",\n      \"properties\": {\n        \"dtype\": \"number\",\n        \"std\": 2,\n        \"min\": 31,\n        \"max\": 37,\n        \"num_unique_values\": 3,\n        \"samples\": [\n          37,\n          31,\n          36\n        ],\n        \"semantic_type\": \"\",\n        \"description\": \"\"\n      }\n    },\n    {\n      \"column\": \"Cidade\",\n      \"properties\": {\n        \"dtype\": \"string\",\n        \"num_unique_values\": 5,\n        \"samples\": [\n          \"Rio de Janeiro\",\n          \"Salvador\",\n          \"Belo Horizonte\"\n        ],\n        \"semantic_type\": \"\",\n        \"description\": \"\"\n      }\n    }\n  ]\n}"
            }
          },
          "metadata": {},
          "execution_count": 33
        }
      ]
    },
    {
      "cell_type": "markdown",
      "source": [
        "# 07 - Criação de DataFrame com Dados Sintéticos\n",
        "\n",
        "Crie um DataFrame fictício de vendas contendo colunas como Produto, Quantidade (entre 1 e 20), e Preço (entre 10 e 100)."
      ],
      "metadata": {
        "id": "GRomJi2_RWOT"
      }
    },
    {
      "cell_type": "code",
      "source": [
        "produto = pd.Series(['Bolo', 'Milkshake', 'Mousse', 'Bolacha', 'Sorvete'])\n",
        "quantidade = np.random.randint(1,20, size=5)\n",
        "preco = np.random.randint(10,100, size=5)\n",
        "df = pd.DataFrame({'Produto': produto, 'Quantidade': quantidade, 'Preço': preco})\n",
        "df\n"
      ],
      "metadata": {
        "id": "OuJYmDM4RYKV",
        "colab": {
          "base_uri": "https://localhost:8080/",
          "height": 206
        },
        "outputId": "af9232c0-9a23-4408-c760-d8fa43d030d4"
      },
      "execution_count": 36,
      "outputs": [
        {
          "output_type": "execute_result",
          "data": {
            "text/plain": [
              "     Produto  Quantidade  Preço\n",
              "0       Bolo          17     79\n",
              "1  Milkshake           6     68\n",
              "2     Mousse          15     79\n",
              "3    Bolacha           1     13\n",
              "4    Sorvete           1     18"
            ],
            "text/html": [
              "\n",
              "  <div id=\"df-19241499-4ffe-45bb-ac58-b51ede11e711\" class=\"colab-df-container\">\n",
              "    <div>\n",
              "<style scoped>\n",
              "    .dataframe tbody tr th:only-of-type {\n",
              "        vertical-align: middle;\n",
              "    }\n",
              "\n",
              "    .dataframe tbody tr th {\n",
              "        vertical-align: top;\n",
              "    }\n",
              "\n",
              "    .dataframe thead th {\n",
              "        text-align: right;\n",
              "    }\n",
              "</style>\n",
              "<table border=\"1\" class=\"dataframe\">\n",
              "  <thead>\n",
              "    <tr style=\"text-align: right;\">\n",
              "      <th></th>\n",
              "      <th>Produto</th>\n",
              "      <th>Quantidade</th>\n",
              "      <th>Preço</th>\n",
              "    </tr>\n",
              "  </thead>\n",
              "  <tbody>\n",
              "    <tr>\n",
              "      <th>0</th>\n",
              "      <td>Bolo</td>\n",
              "      <td>17</td>\n",
              "      <td>79</td>\n",
              "    </tr>\n",
              "    <tr>\n",
              "      <th>1</th>\n",
              "      <td>Milkshake</td>\n",
              "      <td>6</td>\n",
              "      <td>68</td>\n",
              "    </tr>\n",
              "    <tr>\n",
              "      <th>2</th>\n",
              "      <td>Mousse</td>\n",
              "      <td>15</td>\n",
              "      <td>79</td>\n",
              "    </tr>\n",
              "    <tr>\n",
              "      <th>3</th>\n",
              "      <td>Bolacha</td>\n",
              "      <td>1</td>\n",
              "      <td>13</td>\n",
              "    </tr>\n",
              "    <tr>\n",
              "      <th>4</th>\n",
              "      <td>Sorvete</td>\n",
              "      <td>1</td>\n",
              "      <td>18</td>\n",
              "    </tr>\n",
              "  </tbody>\n",
              "</table>\n",
              "</div>\n",
              "    <div class=\"colab-df-buttons\">\n",
              "\n",
              "  <div class=\"colab-df-container\">\n",
              "    <button class=\"colab-df-convert\" onclick=\"convertToInteractive('df-19241499-4ffe-45bb-ac58-b51ede11e711')\"\n",
              "            title=\"Convert this dataframe to an interactive table.\"\n",
              "            style=\"display:none;\">\n",
              "\n",
              "  <svg xmlns=\"http://www.w3.org/2000/svg\" height=\"24px\" viewBox=\"0 -960 960 960\">\n",
              "    <path d=\"M120-120v-720h720v720H120Zm60-500h600v-160H180v160Zm220 220h160v-160H400v160Zm0 220h160v-160H400v160ZM180-400h160v-160H180v160Zm440 0h160v-160H620v160ZM180-180h160v-160H180v160Zm440 0h160v-160H620v160Z\"/>\n",
              "  </svg>\n",
              "    </button>\n",
              "\n",
              "  <style>\n",
              "    .colab-df-container {\n",
              "      display:flex;\n",
              "      gap: 12px;\n",
              "    }\n",
              "\n",
              "    .colab-df-convert {\n",
              "      background-color: #E8F0FE;\n",
              "      border: none;\n",
              "      border-radius: 50%;\n",
              "      cursor: pointer;\n",
              "      display: none;\n",
              "      fill: #1967D2;\n",
              "      height: 32px;\n",
              "      padding: 0 0 0 0;\n",
              "      width: 32px;\n",
              "    }\n",
              "\n",
              "    .colab-df-convert:hover {\n",
              "      background-color: #E2EBFA;\n",
              "      box-shadow: 0px 1px 2px rgba(60, 64, 67, 0.3), 0px 1px 3px 1px rgba(60, 64, 67, 0.15);\n",
              "      fill: #174EA6;\n",
              "    }\n",
              "\n",
              "    .colab-df-buttons div {\n",
              "      margin-bottom: 4px;\n",
              "    }\n",
              "\n",
              "    [theme=dark] .colab-df-convert {\n",
              "      background-color: #3B4455;\n",
              "      fill: #D2E3FC;\n",
              "    }\n",
              "\n",
              "    [theme=dark] .colab-df-convert:hover {\n",
              "      background-color: #434B5C;\n",
              "      box-shadow: 0px 1px 3px 1px rgba(0, 0, 0, 0.15);\n",
              "      filter: drop-shadow(0px 1px 2px rgba(0, 0, 0, 0.3));\n",
              "      fill: #FFFFFF;\n",
              "    }\n",
              "  </style>\n",
              "\n",
              "    <script>\n",
              "      const buttonEl =\n",
              "        document.querySelector('#df-19241499-4ffe-45bb-ac58-b51ede11e711 button.colab-df-convert');\n",
              "      buttonEl.style.display =\n",
              "        google.colab.kernel.accessAllowed ? 'block' : 'none';\n",
              "\n",
              "      async function convertToInteractive(key) {\n",
              "        const element = document.querySelector('#df-19241499-4ffe-45bb-ac58-b51ede11e711');\n",
              "        const dataTable =\n",
              "          await google.colab.kernel.invokeFunction('convertToInteractive',\n",
              "                                                    [key], {});\n",
              "        if (!dataTable) return;\n",
              "\n",
              "        const docLinkHtml = 'Like what you see? Visit the ' +\n",
              "          '<a target=\"_blank\" href=https://colab.research.google.com/notebooks/data_table.ipynb>data table notebook</a>'\n",
              "          + ' to learn more about interactive tables.';\n",
              "        element.innerHTML = '';\n",
              "        dataTable['output_type'] = 'display_data';\n",
              "        await google.colab.output.renderOutput(dataTable, element);\n",
              "        const docLink = document.createElement('div');\n",
              "        docLink.innerHTML = docLinkHtml;\n",
              "        element.appendChild(docLink);\n",
              "      }\n",
              "    </script>\n",
              "  </div>\n",
              "\n",
              "\n",
              "<div id=\"df-f1e8f5be-0130-4ee9-a3c3-d1f300496eab\">\n",
              "  <button class=\"colab-df-quickchart\" onclick=\"quickchart('df-f1e8f5be-0130-4ee9-a3c3-d1f300496eab')\"\n",
              "            title=\"Suggest charts\"\n",
              "            style=\"display:none;\">\n",
              "\n",
              "<svg xmlns=\"http://www.w3.org/2000/svg\" height=\"24px\"viewBox=\"0 0 24 24\"\n",
              "     width=\"24px\">\n",
              "    <g>\n",
              "        <path d=\"M19 3H5c-1.1 0-2 .9-2 2v14c0 1.1.9 2 2 2h14c1.1 0 2-.9 2-2V5c0-1.1-.9-2-2-2zM9 17H7v-7h2v7zm4 0h-2V7h2v10zm4 0h-2v-4h2v4z\"/>\n",
              "    </g>\n",
              "</svg>\n",
              "  </button>\n",
              "\n",
              "<style>\n",
              "  .colab-df-quickchart {\n",
              "      --bg-color: #E8F0FE;\n",
              "      --fill-color: #1967D2;\n",
              "      --hover-bg-color: #E2EBFA;\n",
              "      --hover-fill-color: #174EA6;\n",
              "      --disabled-fill-color: #AAA;\n",
              "      --disabled-bg-color: #DDD;\n",
              "  }\n",
              "\n",
              "  [theme=dark] .colab-df-quickchart {\n",
              "      --bg-color: #3B4455;\n",
              "      --fill-color: #D2E3FC;\n",
              "      --hover-bg-color: #434B5C;\n",
              "      --hover-fill-color: #FFFFFF;\n",
              "      --disabled-bg-color: #3B4455;\n",
              "      --disabled-fill-color: #666;\n",
              "  }\n",
              "\n",
              "  .colab-df-quickchart {\n",
              "    background-color: var(--bg-color);\n",
              "    border: none;\n",
              "    border-radius: 50%;\n",
              "    cursor: pointer;\n",
              "    display: none;\n",
              "    fill: var(--fill-color);\n",
              "    height: 32px;\n",
              "    padding: 0;\n",
              "    width: 32px;\n",
              "  }\n",
              "\n",
              "  .colab-df-quickchart:hover {\n",
              "    background-color: var(--hover-bg-color);\n",
              "    box-shadow: 0 1px 2px rgba(60, 64, 67, 0.3), 0 1px 3px 1px rgba(60, 64, 67, 0.15);\n",
              "    fill: var(--button-hover-fill-color);\n",
              "  }\n",
              "\n",
              "  .colab-df-quickchart-complete:disabled,\n",
              "  .colab-df-quickchart-complete:disabled:hover {\n",
              "    background-color: var(--disabled-bg-color);\n",
              "    fill: var(--disabled-fill-color);\n",
              "    box-shadow: none;\n",
              "  }\n",
              "\n",
              "  .colab-df-spinner {\n",
              "    border: 2px solid var(--fill-color);\n",
              "    border-color: transparent;\n",
              "    border-bottom-color: var(--fill-color);\n",
              "    animation:\n",
              "      spin 1s steps(1) infinite;\n",
              "  }\n",
              "\n",
              "  @keyframes spin {\n",
              "    0% {\n",
              "      border-color: transparent;\n",
              "      border-bottom-color: var(--fill-color);\n",
              "      border-left-color: var(--fill-color);\n",
              "    }\n",
              "    20% {\n",
              "      border-color: transparent;\n",
              "      border-left-color: var(--fill-color);\n",
              "      border-top-color: var(--fill-color);\n",
              "    }\n",
              "    30% {\n",
              "      border-color: transparent;\n",
              "      border-left-color: var(--fill-color);\n",
              "      border-top-color: var(--fill-color);\n",
              "      border-right-color: var(--fill-color);\n",
              "    }\n",
              "    40% {\n",
              "      border-color: transparent;\n",
              "      border-right-color: var(--fill-color);\n",
              "      border-top-color: var(--fill-color);\n",
              "    }\n",
              "    60% {\n",
              "      border-color: transparent;\n",
              "      border-right-color: var(--fill-color);\n",
              "    }\n",
              "    80% {\n",
              "      border-color: transparent;\n",
              "      border-right-color: var(--fill-color);\n",
              "      border-bottom-color: var(--fill-color);\n",
              "    }\n",
              "    90% {\n",
              "      border-color: transparent;\n",
              "      border-bottom-color: var(--fill-color);\n",
              "    }\n",
              "  }\n",
              "</style>\n",
              "\n",
              "  <script>\n",
              "    async function quickchart(key) {\n",
              "      const quickchartButtonEl =\n",
              "        document.querySelector('#' + key + ' button');\n",
              "      quickchartButtonEl.disabled = true;  // To prevent multiple clicks.\n",
              "      quickchartButtonEl.classList.add('colab-df-spinner');\n",
              "      try {\n",
              "        const charts = await google.colab.kernel.invokeFunction(\n",
              "            'suggestCharts', [key], {});\n",
              "      } catch (error) {\n",
              "        console.error('Error during call to suggestCharts:', error);\n",
              "      }\n",
              "      quickchartButtonEl.classList.remove('colab-df-spinner');\n",
              "      quickchartButtonEl.classList.add('colab-df-quickchart-complete');\n",
              "    }\n",
              "    (() => {\n",
              "      let quickchartButtonEl =\n",
              "        document.querySelector('#df-f1e8f5be-0130-4ee9-a3c3-d1f300496eab button');\n",
              "      quickchartButtonEl.style.display =\n",
              "        google.colab.kernel.accessAllowed ? 'block' : 'none';\n",
              "    })();\n",
              "  </script>\n",
              "</div>\n",
              "\n",
              "  <div id=\"id_e5d6249a-fd58-4ee4-901c-5eb9ad73d618\">\n",
              "    <style>\n",
              "      .colab-df-generate {\n",
              "        background-color: #E8F0FE;\n",
              "        border: none;\n",
              "        border-radius: 50%;\n",
              "        cursor: pointer;\n",
              "        display: none;\n",
              "        fill: #1967D2;\n",
              "        height: 32px;\n",
              "        padding: 0 0 0 0;\n",
              "        width: 32px;\n",
              "      }\n",
              "\n",
              "      .colab-df-generate:hover {\n",
              "        background-color: #E2EBFA;\n",
              "        box-shadow: 0px 1px 2px rgba(60, 64, 67, 0.3), 0px 1px 3px 1px rgba(60, 64, 67, 0.15);\n",
              "        fill: #174EA6;\n",
              "      }\n",
              "\n",
              "      [theme=dark] .colab-df-generate {\n",
              "        background-color: #3B4455;\n",
              "        fill: #D2E3FC;\n",
              "      }\n",
              "\n",
              "      [theme=dark] .colab-df-generate:hover {\n",
              "        background-color: #434B5C;\n",
              "        box-shadow: 0px 1px 3px 1px rgba(0, 0, 0, 0.15);\n",
              "        filter: drop-shadow(0px 1px 2px rgba(0, 0, 0, 0.3));\n",
              "        fill: #FFFFFF;\n",
              "      }\n",
              "    </style>\n",
              "    <button class=\"colab-df-generate\" onclick=\"generateWithVariable('df')\"\n",
              "            title=\"Generate code using this dataframe.\"\n",
              "            style=\"display:none;\">\n",
              "\n",
              "  <svg xmlns=\"http://www.w3.org/2000/svg\" height=\"24px\"viewBox=\"0 0 24 24\"\n",
              "       width=\"24px\">\n",
              "    <path d=\"M7,19H8.4L18.45,9,17,7.55,7,17.6ZM5,21V16.75L18.45,3.32a2,2,0,0,1,2.83,0l1.4,1.43a1.91,1.91,0,0,1,.58,1.4,1.91,1.91,0,0,1-.58,1.4L9.25,21ZM18.45,9,17,7.55Zm-12,3A5.31,5.31,0,0,0,4.9,8.1,5.31,5.31,0,0,0,1,6.5,5.31,5.31,0,0,0,4.9,4.9,5.31,5.31,0,0,0,6.5,1,5.31,5.31,0,0,0,8.1,4.9,5.31,5.31,0,0,0,12,6.5,5.46,5.46,0,0,0,6.5,12Z\"/>\n",
              "  </svg>\n",
              "    </button>\n",
              "    <script>\n",
              "      (() => {\n",
              "      const buttonEl =\n",
              "        document.querySelector('#id_e5d6249a-fd58-4ee4-901c-5eb9ad73d618 button.colab-df-generate');\n",
              "      buttonEl.style.display =\n",
              "        google.colab.kernel.accessAllowed ? 'block' : 'none';\n",
              "\n",
              "      buttonEl.onclick = () => {\n",
              "        google.colab.notebook.generateWithVariable('df');\n",
              "      }\n",
              "      })();\n",
              "    </script>\n",
              "  </div>\n",
              "\n",
              "    </div>\n",
              "  </div>\n"
            ],
            "application/vnd.google.colaboratory.intrinsic+json": {
              "type": "dataframe",
              "variable_name": "df",
              "summary": "{\n  \"name\": \"df\",\n  \"rows\": 5,\n  \"fields\": [\n    {\n      \"column\": \"Produto\",\n      \"properties\": {\n        \"dtype\": \"string\",\n        \"num_unique_values\": 5,\n        \"samples\": [\n          \"Milkshake\",\n          \"Sorvete\",\n          \"Mousse\"\n        ],\n        \"semantic_type\": \"\",\n        \"description\": \"\"\n      }\n    },\n    {\n      \"column\": \"Quantidade\",\n      \"properties\": {\n        \"dtype\": \"number\",\n        \"std\": 7,\n        \"min\": 1,\n        \"max\": 17,\n        \"num_unique_values\": 4,\n        \"samples\": [\n          6,\n          1,\n          17\n        ],\n        \"semantic_type\": \"\",\n        \"description\": \"\"\n      }\n    },\n    {\n      \"column\": \"Pre\\u00e7o\",\n      \"properties\": {\n        \"dtype\": \"number\",\n        \"std\": 33,\n        \"min\": 13,\n        \"max\": 79,\n        \"num_unique_values\": 4,\n        \"samples\": [\n          68,\n          18,\n          79\n        ],\n        \"semantic_type\": \"\",\n        \"description\": \"\"\n      }\n    }\n  ]\n}"
            }
          },
          "metadata": {},
          "execution_count": 36
        }
      ]
    },
    {
      "cell_type": "markdown",
      "source": [
        "# 08 - Filtragem de Dados\n",
        "\n",
        "Filtre o DataFrame criado no exercício anterior para mostrar apenas as vendas onde a quantidade é maior que 10."
      ],
      "metadata": {
        "id": "lyfqITsRRaqd"
      }
    },
    {
      "cell_type": "code",
      "source": [
        "df[df['Quantidade'] > 10]\n"
      ],
      "metadata": {
        "id": "31_Xw_HIRc7f",
        "colab": {
          "base_uri": "https://localhost:8080/",
          "height": 112
        },
        "outputId": "97aa60b1-4d16-4530-c4e4-28da79005bc1"
      },
      "execution_count": 37,
      "outputs": [
        {
          "output_type": "execute_result",
          "data": {
            "text/plain": [
              "  Produto  Quantidade  Preço\n",
              "0    Bolo          17     79\n",
              "2  Mousse          15     79"
            ],
            "text/html": [
              "\n",
              "  <div id=\"df-570c2a50-bf03-497d-b925-6929dee8e380\" class=\"colab-df-container\">\n",
              "    <div>\n",
              "<style scoped>\n",
              "    .dataframe tbody tr th:only-of-type {\n",
              "        vertical-align: middle;\n",
              "    }\n",
              "\n",
              "    .dataframe tbody tr th {\n",
              "        vertical-align: top;\n",
              "    }\n",
              "\n",
              "    .dataframe thead th {\n",
              "        text-align: right;\n",
              "    }\n",
              "</style>\n",
              "<table border=\"1\" class=\"dataframe\">\n",
              "  <thead>\n",
              "    <tr style=\"text-align: right;\">\n",
              "      <th></th>\n",
              "      <th>Produto</th>\n",
              "      <th>Quantidade</th>\n",
              "      <th>Preço</th>\n",
              "    </tr>\n",
              "  </thead>\n",
              "  <tbody>\n",
              "    <tr>\n",
              "      <th>0</th>\n",
              "      <td>Bolo</td>\n",
              "      <td>17</td>\n",
              "      <td>79</td>\n",
              "    </tr>\n",
              "    <tr>\n",
              "      <th>2</th>\n",
              "      <td>Mousse</td>\n",
              "      <td>15</td>\n",
              "      <td>79</td>\n",
              "    </tr>\n",
              "  </tbody>\n",
              "</table>\n",
              "</div>\n",
              "    <div class=\"colab-df-buttons\">\n",
              "\n",
              "  <div class=\"colab-df-container\">\n",
              "    <button class=\"colab-df-convert\" onclick=\"convertToInteractive('df-570c2a50-bf03-497d-b925-6929dee8e380')\"\n",
              "            title=\"Convert this dataframe to an interactive table.\"\n",
              "            style=\"display:none;\">\n",
              "\n",
              "  <svg xmlns=\"http://www.w3.org/2000/svg\" height=\"24px\" viewBox=\"0 -960 960 960\">\n",
              "    <path d=\"M120-120v-720h720v720H120Zm60-500h600v-160H180v160Zm220 220h160v-160H400v160Zm0 220h160v-160H400v160ZM180-400h160v-160H180v160Zm440 0h160v-160H620v160ZM180-180h160v-160H180v160Zm440 0h160v-160H620v160Z\"/>\n",
              "  </svg>\n",
              "    </button>\n",
              "\n",
              "  <style>\n",
              "    .colab-df-container {\n",
              "      display:flex;\n",
              "      gap: 12px;\n",
              "    }\n",
              "\n",
              "    .colab-df-convert {\n",
              "      background-color: #E8F0FE;\n",
              "      border: none;\n",
              "      border-radius: 50%;\n",
              "      cursor: pointer;\n",
              "      display: none;\n",
              "      fill: #1967D2;\n",
              "      height: 32px;\n",
              "      padding: 0 0 0 0;\n",
              "      width: 32px;\n",
              "    }\n",
              "\n",
              "    .colab-df-convert:hover {\n",
              "      background-color: #E2EBFA;\n",
              "      box-shadow: 0px 1px 2px rgba(60, 64, 67, 0.3), 0px 1px 3px 1px rgba(60, 64, 67, 0.15);\n",
              "      fill: #174EA6;\n",
              "    }\n",
              "\n",
              "    .colab-df-buttons div {\n",
              "      margin-bottom: 4px;\n",
              "    }\n",
              "\n",
              "    [theme=dark] .colab-df-convert {\n",
              "      background-color: #3B4455;\n",
              "      fill: #D2E3FC;\n",
              "    }\n",
              "\n",
              "    [theme=dark] .colab-df-convert:hover {\n",
              "      background-color: #434B5C;\n",
              "      box-shadow: 0px 1px 3px 1px rgba(0, 0, 0, 0.15);\n",
              "      filter: drop-shadow(0px 1px 2px rgba(0, 0, 0, 0.3));\n",
              "      fill: #FFFFFF;\n",
              "    }\n",
              "  </style>\n",
              "\n",
              "    <script>\n",
              "      const buttonEl =\n",
              "        document.querySelector('#df-570c2a50-bf03-497d-b925-6929dee8e380 button.colab-df-convert');\n",
              "      buttonEl.style.display =\n",
              "        google.colab.kernel.accessAllowed ? 'block' : 'none';\n",
              "\n",
              "      async function convertToInteractive(key) {\n",
              "        const element = document.querySelector('#df-570c2a50-bf03-497d-b925-6929dee8e380');\n",
              "        const dataTable =\n",
              "          await google.colab.kernel.invokeFunction('convertToInteractive',\n",
              "                                                    [key], {});\n",
              "        if (!dataTable) return;\n",
              "\n",
              "        const docLinkHtml = 'Like what you see? Visit the ' +\n",
              "          '<a target=\"_blank\" href=https://colab.research.google.com/notebooks/data_table.ipynb>data table notebook</a>'\n",
              "          + ' to learn more about interactive tables.';\n",
              "        element.innerHTML = '';\n",
              "        dataTable['output_type'] = 'display_data';\n",
              "        await google.colab.output.renderOutput(dataTable, element);\n",
              "        const docLink = document.createElement('div');\n",
              "        docLink.innerHTML = docLinkHtml;\n",
              "        element.appendChild(docLink);\n",
              "      }\n",
              "    </script>\n",
              "  </div>\n",
              "\n",
              "\n",
              "<div id=\"df-424b60d3-7231-4293-8402-52906b6b40dc\">\n",
              "  <button class=\"colab-df-quickchart\" onclick=\"quickchart('df-424b60d3-7231-4293-8402-52906b6b40dc')\"\n",
              "            title=\"Suggest charts\"\n",
              "            style=\"display:none;\">\n",
              "\n",
              "<svg xmlns=\"http://www.w3.org/2000/svg\" height=\"24px\"viewBox=\"0 0 24 24\"\n",
              "     width=\"24px\">\n",
              "    <g>\n",
              "        <path d=\"M19 3H5c-1.1 0-2 .9-2 2v14c0 1.1.9 2 2 2h14c1.1 0 2-.9 2-2V5c0-1.1-.9-2-2-2zM9 17H7v-7h2v7zm4 0h-2V7h2v10zm4 0h-2v-4h2v4z\"/>\n",
              "    </g>\n",
              "</svg>\n",
              "  </button>\n",
              "\n",
              "<style>\n",
              "  .colab-df-quickchart {\n",
              "      --bg-color: #E8F0FE;\n",
              "      --fill-color: #1967D2;\n",
              "      --hover-bg-color: #E2EBFA;\n",
              "      --hover-fill-color: #174EA6;\n",
              "      --disabled-fill-color: #AAA;\n",
              "      --disabled-bg-color: #DDD;\n",
              "  }\n",
              "\n",
              "  [theme=dark] .colab-df-quickchart {\n",
              "      --bg-color: #3B4455;\n",
              "      --fill-color: #D2E3FC;\n",
              "      --hover-bg-color: #434B5C;\n",
              "      --hover-fill-color: #FFFFFF;\n",
              "      --disabled-bg-color: #3B4455;\n",
              "      --disabled-fill-color: #666;\n",
              "  }\n",
              "\n",
              "  .colab-df-quickchart {\n",
              "    background-color: var(--bg-color);\n",
              "    border: none;\n",
              "    border-radius: 50%;\n",
              "    cursor: pointer;\n",
              "    display: none;\n",
              "    fill: var(--fill-color);\n",
              "    height: 32px;\n",
              "    padding: 0;\n",
              "    width: 32px;\n",
              "  }\n",
              "\n",
              "  .colab-df-quickchart:hover {\n",
              "    background-color: var(--hover-bg-color);\n",
              "    box-shadow: 0 1px 2px rgba(60, 64, 67, 0.3), 0 1px 3px 1px rgba(60, 64, 67, 0.15);\n",
              "    fill: var(--button-hover-fill-color);\n",
              "  }\n",
              "\n",
              "  .colab-df-quickchart-complete:disabled,\n",
              "  .colab-df-quickchart-complete:disabled:hover {\n",
              "    background-color: var(--disabled-bg-color);\n",
              "    fill: var(--disabled-fill-color);\n",
              "    box-shadow: none;\n",
              "  }\n",
              "\n",
              "  .colab-df-spinner {\n",
              "    border: 2px solid var(--fill-color);\n",
              "    border-color: transparent;\n",
              "    border-bottom-color: var(--fill-color);\n",
              "    animation:\n",
              "      spin 1s steps(1) infinite;\n",
              "  }\n",
              "\n",
              "  @keyframes spin {\n",
              "    0% {\n",
              "      border-color: transparent;\n",
              "      border-bottom-color: var(--fill-color);\n",
              "      border-left-color: var(--fill-color);\n",
              "    }\n",
              "    20% {\n",
              "      border-color: transparent;\n",
              "      border-left-color: var(--fill-color);\n",
              "      border-top-color: var(--fill-color);\n",
              "    }\n",
              "    30% {\n",
              "      border-color: transparent;\n",
              "      border-left-color: var(--fill-color);\n",
              "      border-top-color: var(--fill-color);\n",
              "      border-right-color: var(--fill-color);\n",
              "    }\n",
              "    40% {\n",
              "      border-color: transparent;\n",
              "      border-right-color: var(--fill-color);\n",
              "      border-top-color: var(--fill-color);\n",
              "    }\n",
              "    60% {\n",
              "      border-color: transparent;\n",
              "      border-right-color: var(--fill-color);\n",
              "    }\n",
              "    80% {\n",
              "      border-color: transparent;\n",
              "      border-right-color: var(--fill-color);\n",
              "      border-bottom-color: var(--fill-color);\n",
              "    }\n",
              "    90% {\n",
              "      border-color: transparent;\n",
              "      border-bottom-color: var(--fill-color);\n",
              "    }\n",
              "  }\n",
              "</style>\n",
              "\n",
              "  <script>\n",
              "    async function quickchart(key) {\n",
              "      const quickchartButtonEl =\n",
              "        document.querySelector('#' + key + ' button');\n",
              "      quickchartButtonEl.disabled = true;  // To prevent multiple clicks.\n",
              "      quickchartButtonEl.classList.add('colab-df-spinner');\n",
              "      try {\n",
              "        const charts = await google.colab.kernel.invokeFunction(\n",
              "            'suggestCharts', [key], {});\n",
              "      } catch (error) {\n",
              "        console.error('Error during call to suggestCharts:', error);\n",
              "      }\n",
              "      quickchartButtonEl.classList.remove('colab-df-spinner');\n",
              "      quickchartButtonEl.classList.add('colab-df-quickchart-complete');\n",
              "    }\n",
              "    (() => {\n",
              "      let quickchartButtonEl =\n",
              "        document.querySelector('#df-424b60d3-7231-4293-8402-52906b6b40dc button');\n",
              "      quickchartButtonEl.style.display =\n",
              "        google.colab.kernel.accessAllowed ? 'block' : 'none';\n",
              "    })();\n",
              "  </script>\n",
              "</div>\n",
              "\n",
              "    </div>\n",
              "  </div>\n"
            ],
            "application/vnd.google.colaboratory.intrinsic+json": {
              "type": "dataframe",
              "summary": "{\n  \"name\": \"df[df['Quantidade'] > 10]\",\n  \"rows\": 2,\n  \"fields\": [\n    {\n      \"column\": \"Produto\",\n      \"properties\": {\n        \"dtype\": \"string\",\n        \"num_unique_values\": 2,\n        \"samples\": [\n          \"Mousse\",\n          \"Bolo\"\n        ],\n        \"semantic_type\": \"\",\n        \"description\": \"\"\n      }\n    },\n    {\n      \"column\": \"Quantidade\",\n      \"properties\": {\n        \"dtype\": \"number\",\n        \"std\": 1,\n        \"min\": 15,\n        \"max\": 17,\n        \"num_unique_values\": 2,\n        \"samples\": [\n          15,\n          17\n        ],\n        \"semantic_type\": \"\",\n        \"description\": \"\"\n      }\n    },\n    {\n      \"column\": \"Pre\\u00e7o\",\n      \"properties\": {\n        \"dtype\": \"number\",\n        \"std\": 0,\n        \"min\": 79,\n        \"max\": 79,\n        \"num_unique_values\": 1,\n        \"samples\": [\n          79\n        ],\n        \"semantic_type\": \"\",\n        \"description\": \"\"\n      }\n    }\n  ]\n}"
            }
          },
          "metadata": {},
          "execution_count": 37
        }
      ]
    },
    {
      "cell_type": "markdown",
      "source": [
        "# 09 - Operações em Colunas\n",
        "\n",
        "Adicione uma coluna ao DataFrame com o valor total da venda (Quantidade * Preço)."
      ],
      "metadata": {
        "id": "01LoGyZ5RhnF"
      }
    },
    {
      "cell_type": "code",
      "source": [
        "df['Total'] = df['Quantidade'] * df['Preço']\n",
        "df\n"
      ],
      "metadata": {
        "id": "8M-FE4M_RkIF",
        "colab": {
          "base_uri": "https://localhost:8080/",
          "height": 206
        },
        "outputId": "2995a3fc-5bfd-4290-fa25-a41de32825cd"
      },
      "execution_count": 38,
      "outputs": [
        {
          "output_type": "execute_result",
          "data": {
            "text/plain": [
              "     Produto  Quantidade  Preço  Total\n",
              "0       Bolo          17     79   1343\n",
              "1  Milkshake           6     68    408\n",
              "2     Mousse          15     79   1185\n",
              "3    Bolacha           1     13     13\n",
              "4    Sorvete           1     18     18"
            ],
            "text/html": [
              "\n",
              "  <div id=\"df-bb2c44bc-fc32-4f51-ad10-8df7296e8823\" class=\"colab-df-container\">\n",
              "    <div>\n",
              "<style scoped>\n",
              "    .dataframe tbody tr th:only-of-type {\n",
              "        vertical-align: middle;\n",
              "    }\n",
              "\n",
              "    .dataframe tbody tr th {\n",
              "        vertical-align: top;\n",
              "    }\n",
              "\n",
              "    .dataframe thead th {\n",
              "        text-align: right;\n",
              "    }\n",
              "</style>\n",
              "<table border=\"1\" class=\"dataframe\">\n",
              "  <thead>\n",
              "    <tr style=\"text-align: right;\">\n",
              "      <th></th>\n",
              "      <th>Produto</th>\n",
              "      <th>Quantidade</th>\n",
              "      <th>Preço</th>\n",
              "      <th>Total</th>\n",
              "    </tr>\n",
              "  </thead>\n",
              "  <tbody>\n",
              "    <tr>\n",
              "      <th>0</th>\n",
              "      <td>Bolo</td>\n",
              "      <td>17</td>\n",
              "      <td>79</td>\n",
              "      <td>1343</td>\n",
              "    </tr>\n",
              "    <tr>\n",
              "      <th>1</th>\n",
              "      <td>Milkshake</td>\n",
              "      <td>6</td>\n",
              "      <td>68</td>\n",
              "      <td>408</td>\n",
              "    </tr>\n",
              "    <tr>\n",
              "      <th>2</th>\n",
              "      <td>Mousse</td>\n",
              "      <td>15</td>\n",
              "      <td>79</td>\n",
              "      <td>1185</td>\n",
              "    </tr>\n",
              "    <tr>\n",
              "      <th>3</th>\n",
              "      <td>Bolacha</td>\n",
              "      <td>1</td>\n",
              "      <td>13</td>\n",
              "      <td>13</td>\n",
              "    </tr>\n",
              "    <tr>\n",
              "      <th>4</th>\n",
              "      <td>Sorvete</td>\n",
              "      <td>1</td>\n",
              "      <td>18</td>\n",
              "      <td>18</td>\n",
              "    </tr>\n",
              "  </tbody>\n",
              "</table>\n",
              "</div>\n",
              "    <div class=\"colab-df-buttons\">\n",
              "\n",
              "  <div class=\"colab-df-container\">\n",
              "    <button class=\"colab-df-convert\" onclick=\"convertToInteractive('df-bb2c44bc-fc32-4f51-ad10-8df7296e8823')\"\n",
              "            title=\"Convert this dataframe to an interactive table.\"\n",
              "            style=\"display:none;\">\n",
              "\n",
              "  <svg xmlns=\"http://www.w3.org/2000/svg\" height=\"24px\" viewBox=\"0 -960 960 960\">\n",
              "    <path d=\"M120-120v-720h720v720H120Zm60-500h600v-160H180v160Zm220 220h160v-160H400v160Zm0 220h160v-160H400v160ZM180-400h160v-160H180v160Zm440 0h160v-160H620v160ZM180-180h160v-160H180v160Zm440 0h160v-160H620v160Z\"/>\n",
              "  </svg>\n",
              "    </button>\n",
              "\n",
              "  <style>\n",
              "    .colab-df-container {\n",
              "      display:flex;\n",
              "      gap: 12px;\n",
              "    }\n",
              "\n",
              "    .colab-df-convert {\n",
              "      background-color: #E8F0FE;\n",
              "      border: none;\n",
              "      border-radius: 50%;\n",
              "      cursor: pointer;\n",
              "      display: none;\n",
              "      fill: #1967D2;\n",
              "      height: 32px;\n",
              "      padding: 0 0 0 0;\n",
              "      width: 32px;\n",
              "    }\n",
              "\n",
              "    .colab-df-convert:hover {\n",
              "      background-color: #E2EBFA;\n",
              "      box-shadow: 0px 1px 2px rgba(60, 64, 67, 0.3), 0px 1px 3px 1px rgba(60, 64, 67, 0.15);\n",
              "      fill: #174EA6;\n",
              "    }\n",
              "\n",
              "    .colab-df-buttons div {\n",
              "      margin-bottom: 4px;\n",
              "    }\n",
              "\n",
              "    [theme=dark] .colab-df-convert {\n",
              "      background-color: #3B4455;\n",
              "      fill: #D2E3FC;\n",
              "    }\n",
              "\n",
              "    [theme=dark] .colab-df-convert:hover {\n",
              "      background-color: #434B5C;\n",
              "      box-shadow: 0px 1px 3px 1px rgba(0, 0, 0, 0.15);\n",
              "      filter: drop-shadow(0px 1px 2px rgba(0, 0, 0, 0.3));\n",
              "      fill: #FFFFFF;\n",
              "    }\n",
              "  </style>\n",
              "\n",
              "    <script>\n",
              "      const buttonEl =\n",
              "        document.querySelector('#df-bb2c44bc-fc32-4f51-ad10-8df7296e8823 button.colab-df-convert');\n",
              "      buttonEl.style.display =\n",
              "        google.colab.kernel.accessAllowed ? 'block' : 'none';\n",
              "\n",
              "      async function convertToInteractive(key) {\n",
              "        const element = document.querySelector('#df-bb2c44bc-fc32-4f51-ad10-8df7296e8823');\n",
              "        const dataTable =\n",
              "          await google.colab.kernel.invokeFunction('convertToInteractive',\n",
              "                                                    [key], {});\n",
              "        if (!dataTable) return;\n",
              "\n",
              "        const docLinkHtml = 'Like what you see? Visit the ' +\n",
              "          '<a target=\"_blank\" href=https://colab.research.google.com/notebooks/data_table.ipynb>data table notebook</a>'\n",
              "          + ' to learn more about interactive tables.';\n",
              "        element.innerHTML = '';\n",
              "        dataTable['output_type'] = 'display_data';\n",
              "        await google.colab.output.renderOutput(dataTable, element);\n",
              "        const docLink = document.createElement('div');\n",
              "        docLink.innerHTML = docLinkHtml;\n",
              "        element.appendChild(docLink);\n",
              "      }\n",
              "    </script>\n",
              "  </div>\n",
              "\n",
              "\n",
              "<div id=\"df-12f9815a-063e-4dae-aa38-d3aff0545a49\">\n",
              "  <button class=\"colab-df-quickchart\" onclick=\"quickchart('df-12f9815a-063e-4dae-aa38-d3aff0545a49')\"\n",
              "            title=\"Suggest charts\"\n",
              "            style=\"display:none;\">\n",
              "\n",
              "<svg xmlns=\"http://www.w3.org/2000/svg\" height=\"24px\"viewBox=\"0 0 24 24\"\n",
              "     width=\"24px\">\n",
              "    <g>\n",
              "        <path d=\"M19 3H5c-1.1 0-2 .9-2 2v14c0 1.1.9 2 2 2h14c1.1 0 2-.9 2-2V5c0-1.1-.9-2-2-2zM9 17H7v-7h2v7zm4 0h-2V7h2v10zm4 0h-2v-4h2v4z\"/>\n",
              "    </g>\n",
              "</svg>\n",
              "  </button>\n",
              "\n",
              "<style>\n",
              "  .colab-df-quickchart {\n",
              "      --bg-color: #E8F0FE;\n",
              "      --fill-color: #1967D2;\n",
              "      --hover-bg-color: #E2EBFA;\n",
              "      --hover-fill-color: #174EA6;\n",
              "      --disabled-fill-color: #AAA;\n",
              "      --disabled-bg-color: #DDD;\n",
              "  }\n",
              "\n",
              "  [theme=dark] .colab-df-quickchart {\n",
              "      --bg-color: #3B4455;\n",
              "      --fill-color: #D2E3FC;\n",
              "      --hover-bg-color: #434B5C;\n",
              "      --hover-fill-color: #FFFFFF;\n",
              "      --disabled-bg-color: #3B4455;\n",
              "      --disabled-fill-color: #666;\n",
              "  }\n",
              "\n",
              "  .colab-df-quickchart {\n",
              "    background-color: var(--bg-color);\n",
              "    border: none;\n",
              "    border-radius: 50%;\n",
              "    cursor: pointer;\n",
              "    display: none;\n",
              "    fill: var(--fill-color);\n",
              "    height: 32px;\n",
              "    padding: 0;\n",
              "    width: 32px;\n",
              "  }\n",
              "\n",
              "  .colab-df-quickchart:hover {\n",
              "    background-color: var(--hover-bg-color);\n",
              "    box-shadow: 0 1px 2px rgba(60, 64, 67, 0.3), 0 1px 3px 1px rgba(60, 64, 67, 0.15);\n",
              "    fill: var(--button-hover-fill-color);\n",
              "  }\n",
              "\n",
              "  .colab-df-quickchart-complete:disabled,\n",
              "  .colab-df-quickchart-complete:disabled:hover {\n",
              "    background-color: var(--disabled-bg-color);\n",
              "    fill: var(--disabled-fill-color);\n",
              "    box-shadow: none;\n",
              "  }\n",
              "\n",
              "  .colab-df-spinner {\n",
              "    border: 2px solid var(--fill-color);\n",
              "    border-color: transparent;\n",
              "    border-bottom-color: var(--fill-color);\n",
              "    animation:\n",
              "      spin 1s steps(1) infinite;\n",
              "  }\n",
              "\n",
              "  @keyframes spin {\n",
              "    0% {\n",
              "      border-color: transparent;\n",
              "      border-bottom-color: var(--fill-color);\n",
              "      border-left-color: var(--fill-color);\n",
              "    }\n",
              "    20% {\n",
              "      border-color: transparent;\n",
              "      border-left-color: var(--fill-color);\n",
              "      border-top-color: var(--fill-color);\n",
              "    }\n",
              "    30% {\n",
              "      border-color: transparent;\n",
              "      border-left-color: var(--fill-color);\n",
              "      border-top-color: var(--fill-color);\n",
              "      border-right-color: var(--fill-color);\n",
              "    }\n",
              "    40% {\n",
              "      border-color: transparent;\n",
              "      border-right-color: var(--fill-color);\n",
              "      border-top-color: var(--fill-color);\n",
              "    }\n",
              "    60% {\n",
              "      border-color: transparent;\n",
              "      border-right-color: var(--fill-color);\n",
              "    }\n",
              "    80% {\n",
              "      border-color: transparent;\n",
              "      border-right-color: var(--fill-color);\n",
              "      border-bottom-color: var(--fill-color);\n",
              "    }\n",
              "    90% {\n",
              "      border-color: transparent;\n",
              "      border-bottom-color: var(--fill-color);\n",
              "    }\n",
              "  }\n",
              "</style>\n",
              "\n",
              "  <script>\n",
              "    async function quickchart(key) {\n",
              "      const quickchartButtonEl =\n",
              "        document.querySelector('#' + key + ' button');\n",
              "      quickchartButtonEl.disabled = true;  // To prevent multiple clicks.\n",
              "      quickchartButtonEl.classList.add('colab-df-spinner');\n",
              "      try {\n",
              "        const charts = await google.colab.kernel.invokeFunction(\n",
              "            'suggestCharts', [key], {});\n",
              "      } catch (error) {\n",
              "        console.error('Error during call to suggestCharts:', error);\n",
              "      }\n",
              "      quickchartButtonEl.classList.remove('colab-df-spinner');\n",
              "      quickchartButtonEl.classList.add('colab-df-quickchart-complete');\n",
              "    }\n",
              "    (() => {\n",
              "      let quickchartButtonEl =\n",
              "        document.querySelector('#df-12f9815a-063e-4dae-aa38-d3aff0545a49 button');\n",
              "      quickchartButtonEl.style.display =\n",
              "        google.colab.kernel.accessAllowed ? 'block' : 'none';\n",
              "    })();\n",
              "  </script>\n",
              "</div>\n",
              "\n",
              "  <div id=\"id_114a56f9-cf3c-45ec-8a7e-a9778d0921a2\">\n",
              "    <style>\n",
              "      .colab-df-generate {\n",
              "        background-color: #E8F0FE;\n",
              "        border: none;\n",
              "        border-radius: 50%;\n",
              "        cursor: pointer;\n",
              "        display: none;\n",
              "        fill: #1967D2;\n",
              "        height: 32px;\n",
              "        padding: 0 0 0 0;\n",
              "        width: 32px;\n",
              "      }\n",
              "\n",
              "      .colab-df-generate:hover {\n",
              "        background-color: #E2EBFA;\n",
              "        box-shadow: 0px 1px 2px rgba(60, 64, 67, 0.3), 0px 1px 3px 1px rgba(60, 64, 67, 0.15);\n",
              "        fill: #174EA6;\n",
              "      }\n",
              "\n",
              "      [theme=dark] .colab-df-generate {\n",
              "        background-color: #3B4455;\n",
              "        fill: #D2E3FC;\n",
              "      }\n",
              "\n",
              "      [theme=dark] .colab-df-generate:hover {\n",
              "        background-color: #434B5C;\n",
              "        box-shadow: 0px 1px 3px 1px rgba(0, 0, 0, 0.15);\n",
              "        filter: drop-shadow(0px 1px 2px rgba(0, 0, 0, 0.3));\n",
              "        fill: #FFFFFF;\n",
              "      }\n",
              "    </style>\n",
              "    <button class=\"colab-df-generate\" onclick=\"generateWithVariable('df')\"\n",
              "            title=\"Generate code using this dataframe.\"\n",
              "            style=\"display:none;\">\n",
              "\n",
              "  <svg xmlns=\"http://www.w3.org/2000/svg\" height=\"24px\"viewBox=\"0 0 24 24\"\n",
              "       width=\"24px\">\n",
              "    <path d=\"M7,19H8.4L18.45,9,17,7.55,7,17.6ZM5,21V16.75L18.45,3.32a2,2,0,0,1,2.83,0l1.4,1.43a1.91,1.91,0,0,1,.58,1.4,1.91,1.91,0,0,1-.58,1.4L9.25,21ZM18.45,9,17,7.55Zm-12,3A5.31,5.31,0,0,0,4.9,8.1,5.31,5.31,0,0,0,1,6.5,5.31,5.31,0,0,0,4.9,4.9,5.31,5.31,0,0,0,6.5,1,5.31,5.31,0,0,0,8.1,4.9,5.31,5.31,0,0,0,12,6.5,5.46,5.46,0,0,0,6.5,12Z\"/>\n",
              "  </svg>\n",
              "    </button>\n",
              "    <script>\n",
              "      (() => {\n",
              "      const buttonEl =\n",
              "        document.querySelector('#id_114a56f9-cf3c-45ec-8a7e-a9778d0921a2 button.colab-df-generate');\n",
              "      buttonEl.style.display =\n",
              "        google.colab.kernel.accessAllowed ? 'block' : 'none';\n",
              "\n",
              "      buttonEl.onclick = () => {\n",
              "        google.colab.notebook.generateWithVariable('df');\n",
              "      }\n",
              "      })();\n",
              "    </script>\n",
              "  </div>\n",
              "\n",
              "    </div>\n",
              "  </div>\n"
            ],
            "application/vnd.google.colaboratory.intrinsic+json": {
              "type": "dataframe",
              "variable_name": "df",
              "summary": "{\n  \"name\": \"df\",\n  \"rows\": 5,\n  \"fields\": [\n    {\n      \"column\": \"Produto\",\n      \"properties\": {\n        \"dtype\": \"string\",\n        \"num_unique_values\": 5,\n        \"samples\": [\n          \"Milkshake\",\n          \"Sorvete\",\n          \"Mousse\"\n        ],\n        \"semantic_type\": \"\",\n        \"description\": \"\"\n      }\n    },\n    {\n      \"column\": \"Quantidade\",\n      \"properties\": {\n        \"dtype\": \"number\",\n        \"std\": 7,\n        \"min\": 1,\n        \"max\": 17,\n        \"num_unique_values\": 4,\n        \"samples\": [\n          6,\n          1,\n          17\n        ],\n        \"semantic_type\": \"\",\n        \"description\": \"\"\n      }\n    },\n    {\n      \"column\": \"Pre\\u00e7o\",\n      \"properties\": {\n        \"dtype\": \"number\",\n        \"std\": 33,\n        \"min\": 13,\n        \"max\": 79,\n        \"num_unique_values\": 4,\n        \"samples\": [\n          68,\n          18,\n          79\n        ],\n        \"semantic_type\": \"\",\n        \"description\": \"\"\n      }\n    },\n    {\n      \"column\": \"Total\",\n      \"properties\": {\n        \"dtype\": \"number\",\n        \"std\": 635,\n        \"min\": 13,\n        \"max\": 1343,\n        \"num_unique_values\": 5,\n        \"samples\": [\n          408,\n          18,\n          1185\n        ],\n        \"semantic_type\": \"\",\n        \"description\": \"\"\n      }\n    }\n  ]\n}"
            }
          },
          "metadata": {},
          "execution_count": 38
        }
      ]
    },
    {
      "cell_type": "markdown",
      "source": [
        "# 10 - Agrupamento e Agregação\n",
        "\n",
        "Agrupe o DataFrame pelo campo Produto e calcule a soma das quantidades vendidas para cada produto."
      ],
      "metadata": {
        "id": "TnGjoICYRmms"
      }
    },
    {
      "cell_type": "code",
      "source": [
        "df.groupby('Produto')['Quantidade'].sum()\n",
        "df\n"
      ],
      "metadata": {
        "id": "9xiTpWaMRoJt",
        "colab": {
          "base_uri": "https://localhost:8080/",
          "height": 206
        },
        "outputId": "d40631d9-3742-468e-85d7-a748227e77f4"
      },
      "execution_count": 39,
      "outputs": [
        {
          "output_type": "execute_result",
          "data": {
            "text/plain": [
              "     Produto  Quantidade  Preço  Total\n",
              "0       Bolo          17     79   1343\n",
              "1  Milkshake           6     68    408\n",
              "2     Mousse          15     79   1185\n",
              "3    Bolacha           1     13     13\n",
              "4    Sorvete           1     18     18"
            ],
            "text/html": [
              "\n",
              "  <div id=\"df-adc33889-2e03-4454-ba99-7ba228764441\" class=\"colab-df-container\">\n",
              "    <div>\n",
              "<style scoped>\n",
              "    .dataframe tbody tr th:only-of-type {\n",
              "        vertical-align: middle;\n",
              "    }\n",
              "\n",
              "    .dataframe tbody tr th {\n",
              "        vertical-align: top;\n",
              "    }\n",
              "\n",
              "    .dataframe thead th {\n",
              "        text-align: right;\n",
              "    }\n",
              "</style>\n",
              "<table border=\"1\" class=\"dataframe\">\n",
              "  <thead>\n",
              "    <tr style=\"text-align: right;\">\n",
              "      <th></th>\n",
              "      <th>Produto</th>\n",
              "      <th>Quantidade</th>\n",
              "      <th>Preço</th>\n",
              "      <th>Total</th>\n",
              "    </tr>\n",
              "  </thead>\n",
              "  <tbody>\n",
              "    <tr>\n",
              "      <th>0</th>\n",
              "      <td>Bolo</td>\n",
              "      <td>17</td>\n",
              "      <td>79</td>\n",
              "      <td>1343</td>\n",
              "    </tr>\n",
              "    <tr>\n",
              "      <th>1</th>\n",
              "      <td>Milkshake</td>\n",
              "      <td>6</td>\n",
              "      <td>68</td>\n",
              "      <td>408</td>\n",
              "    </tr>\n",
              "    <tr>\n",
              "      <th>2</th>\n",
              "      <td>Mousse</td>\n",
              "      <td>15</td>\n",
              "      <td>79</td>\n",
              "      <td>1185</td>\n",
              "    </tr>\n",
              "    <tr>\n",
              "      <th>3</th>\n",
              "      <td>Bolacha</td>\n",
              "      <td>1</td>\n",
              "      <td>13</td>\n",
              "      <td>13</td>\n",
              "    </tr>\n",
              "    <tr>\n",
              "      <th>4</th>\n",
              "      <td>Sorvete</td>\n",
              "      <td>1</td>\n",
              "      <td>18</td>\n",
              "      <td>18</td>\n",
              "    </tr>\n",
              "  </tbody>\n",
              "</table>\n",
              "</div>\n",
              "    <div class=\"colab-df-buttons\">\n",
              "\n",
              "  <div class=\"colab-df-container\">\n",
              "    <button class=\"colab-df-convert\" onclick=\"convertToInteractive('df-adc33889-2e03-4454-ba99-7ba228764441')\"\n",
              "            title=\"Convert this dataframe to an interactive table.\"\n",
              "            style=\"display:none;\">\n",
              "\n",
              "  <svg xmlns=\"http://www.w3.org/2000/svg\" height=\"24px\" viewBox=\"0 -960 960 960\">\n",
              "    <path d=\"M120-120v-720h720v720H120Zm60-500h600v-160H180v160Zm220 220h160v-160H400v160Zm0 220h160v-160H400v160ZM180-400h160v-160H180v160Zm440 0h160v-160H620v160ZM180-180h160v-160H180v160Zm440 0h160v-160H620v160Z\"/>\n",
              "  </svg>\n",
              "    </button>\n",
              "\n",
              "  <style>\n",
              "    .colab-df-container {\n",
              "      display:flex;\n",
              "      gap: 12px;\n",
              "    }\n",
              "\n",
              "    .colab-df-convert {\n",
              "      background-color: #E8F0FE;\n",
              "      border: none;\n",
              "      border-radius: 50%;\n",
              "      cursor: pointer;\n",
              "      display: none;\n",
              "      fill: #1967D2;\n",
              "      height: 32px;\n",
              "      padding: 0 0 0 0;\n",
              "      width: 32px;\n",
              "    }\n",
              "\n",
              "    .colab-df-convert:hover {\n",
              "      background-color: #E2EBFA;\n",
              "      box-shadow: 0px 1px 2px rgba(60, 64, 67, 0.3), 0px 1px 3px 1px rgba(60, 64, 67, 0.15);\n",
              "      fill: #174EA6;\n",
              "    }\n",
              "\n",
              "    .colab-df-buttons div {\n",
              "      margin-bottom: 4px;\n",
              "    }\n",
              "\n",
              "    [theme=dark] .colab-df-convert {\n",
              "      background-color: #3B4455;\n",
              "      fill: #D2E3FC;\n",
              "    }\n",
              "\n",
              "    [theme=dark] .colab-df-convert:hover {\n",
              "      background-color: #434B5C;\n",
              "      box-shadow: 0px 1px 3px 1px rgba(0, 0, 0, 0.15);\n",
              "      filter: drop-shadow(0px 1px 2px rgba(0, 0, 0, 0.3));\n",
              "      fill: #FFFFFF;\n",
              "    }\n",
              "  </style>\n",
              "\n",
              "    <script>\n",
              "      const buttonEl =\n",
              "        document.querySelector('#df-adc33889-2e03-4454-ba99-7ba228764441 button.colab-df-convert');\n",
              "      buttonEl.style.display =\n",
              "        google.colab.kernel.accessAllowed ? 'block' : 'none';\n",
              "\n",
              "      async function convertToInteractive(key) {\n",
              "        const element = document.querySelector('#df-adc33889-2e03-4454-ba99-7ba228764441');\n",
              "        const dataTable =\n",
              "          await google.colab.kernel.invokeFunction('convertToInteractive',\n",
              "                                                    [key], {});\n",
              "        if (!dataTable) return;\n",
              "\n",
              "        const docLinkHtml = 'Like what you see? Visit the ' +\n",
              "          '<a target=\"_blank\" href=https://colab.research.google.com/notebooks/data_table.ipynb>data table notebook</a>'\n",
              "          + ' to learn more about interactive tables.';\n",
              "        element.innerHTML = '';\n",
              "        dataTable['output_type'] = 'display_data';\n",
              "        await google.colab.output.renderOutput(dataTable, element);\n",
              "        const docLink = document.createElement('div');\n",
              "        docLink.innerHTML = docLinkHtml;\n",
              "        element.appendChild(docLink);\n",
              "      }\n",
              "    </script>\n",
              "  </div>\n",
              "\n",
              "\n",
              "<div id=\"df-be077d4c-1e92-41fb-81fc-04555ccbd471\">\n",
              "  <button class=\"colab-df-quickchart\" onclick=\"quickchart('df-be077d4c-1e92-41fb-81fc-04555ccbd471')\"\n",
              "            title=\"Suggest charts\"\n",
              "            style=\"display:none;\">\n",
              "\n",
              "<svg xmlns=\"http://www.w3.org/2000/svg\" height=\"24px\"viewBox=\"0 0 24 24\"\n",
              "     width=\"24px\">\n",
              "    <g>\n",
              "        <path d=\"M19 3H5c-1.1 0-2 .9-2 2v14c0 1.1.9 2 2 2h14c1.1 0 2-.9 2-2V5c0-1.1-.9-2-2-2zM9 17H7v-7h2v7zm4 0h-2V7h2v10zm4 0h-2v-4h2v4z\"/>\n",
              "    </g>\n",
              "</svg>\n",
              "  </button>\n",
              "\n",
              "<style>\n",
              "  .colab-df-quickchart {\n",
              "      --bg-color: #E8F0FE;\n",
              "      --fill-color: #1967D2;\n",
              "      --hover-bg-color: #E2EBFA;\n",
              "      --hover-fill-color: #174EA6;\n",
              "      --disabled-fill-color: #AAA;\n",
              "      --disabled-bg-color: #DDD;\n",
              "  }\n",
              "\n",
              "  [theme=dark] .colab-df-quickchart {\n",
              "      --bg-color: #3B4455;\n",
              "      --fill-color: #D2E3FC;\n",
              "      --hover-bg-color: #434B5C;\n",
              "      --hover-fill-color: #FFFFFF;\n",
              "      --disabled-bg-color: #3B4455;\n",
              "      --disabled-fill-color: #666;\n",
              "  }\n",
              "\n",
              "  .colab-df-quickchart {\n",
              "    background-color: var(--bg-color);\n",
              "    border: none;\n",
              "    border-radius: 50%;\n",
              "    cursor: pointer;\n",
              "    display: none;\n",
              "    fill: var(--fill-color);\n",
              "    height: 32px;\n",
              "    padding: 0;\n",
              "    width: 32px;\n",
              "  }\n",
              "\n",
              "  .colab-df-quickchart:hover {\n",
              "    background-color: var(--hover-bg-color);\n",
              "    box-shadow: 0 1px 2px rgba(60, 64, 67, 0.3), 0 1px 3px 1px rgba(60, 64, 67, 0.15);\n",
              "    fill: var(--button-hover-fill-color);\n",
              "  }\n",
              "\n",
              "  .colab-df-quickchart-complete:disabled,\n",
              "  .colab-df-quickchart-complete:disabled:hover {\n",
              "    background-color: var(--disabled-bg-color);\n",
              "    fill: var(--disabled-fill-color);\n",
              "    box-shadow: none;\n",
              "  }\n",
              "\n",
              "  .colab-df-spinner {\n",
              "    border: 2px solid var(--fill-color);\n",
              "    border-color: transparent;\n",
              "    border-bottom-color: var(--fill-color);\n",
              "    animation:\n",
              "      spin 1s steps(1) infinite;\n",
              "  }\n",
              "\n",
              "  @keyframes spin {\n",
              "    0% {\n",
              "      border-color: transparent;\n",
              "      border-bottom-color: var(--fill-color);\n",
              "      border-left-color: var(--fill-color);\n",
              "    }\n",
              "    20% {\n",
              "      border-color: transparent;\n",
              "      border-left-color: var(--fill-color);\n",
              "      border-top-color: var(--fill-color);\n",
              "    }\n",
              "    30% {\n",
              "      border-color: transparent;\n",
              "      border-left-color: var(--fill-color);\n",
              "      border-top-color: var(--fill-color);\n",
              "      border-right-color: var(--fill-color);\n",
              "    }\n",
              "    40% {\n",
              "      border-color: transparent;\n",
              "      border-right-color: var(--fill-color);\n",
              "      border-top-color: var(--fill-color);\n",
              "    }\n",
              "    60% {\n",
              "      border-color: transparent;\n",
              "      border-right-color: var(--fill-color);\n",
              "    }\n",
              "    80% {\n",
              "      border-color: transparent;\n",
              "      border-right-color: var(--fill-color);\n",
              "      border-bottom-color: var(--fill-color);\n",
              "    }\n",
              "    90% {\n",
              "      border-color: transparent;\n",
              "      border-bottom-color: var(--fill-color);\n",
              "    }\n",
              "  }\n",
              "</style>\n",
              "\n",
              "  <script>\n",
              "    async function quickchart(key) {\n",
              "      const quickchartButtonEl =\n",
              "        document.querySelector('#' + key + ' button');\n",
              "      quickchartButtonEl.disabled = true;  // To prevent multiple clicks.\n",
              "      quickchartButtonEl.classList.add('colab-df-spinner');\n",
              "      try {\n",
              "        const charts = await google.colab.kernel.invokeFunction(\n",
              "            'suggestCharts', [key], {});\n",
              "      } catch (error) {\n",
              "        console.error('Error during call to suggestCharts:', error);\n",
              "      }\n",
              "      quickchartButtonEl.classList.remove('colab-df-spinner');\n",
              "      quickchartButtonEl.classList.add('colab-df-quickchart-complete');\n",
              "    }\n",
              "    (() => {\n",
              "      let quickchartButtonEl =\n",
              "        document.querySelector('#df-be077d4c-1e92-41fb-81fc-04555ccbd471 button');\n",
              "      quickchartButtonEl.style.display =\n",
              "        google.colab.kernel.accessAllowed ? 'block' : 'none';\n",
              "    })();\n",
              "  </script>\n",
              "</div>\n",
              "\n",
              "  <div id=\"id_5b7aee6b-96f2-4b19-ae21-4cf47ada51e8\">\n",
              "    <style>\n",
              "      .colab-df-generate {\n",
              "        background-color: #E8F0FE;\n",
              "        border: none;\n",
              "        border-radius: 50%;\n",
              "        cursor: pointer;\n",
              "        display: none;\n",
              "        fill: #1967D2;\n",
              "        height: 32px;\n",
              "        padding: 0 0 0 0;\n",
              "        width: 32px;\n",
              "      }\n",
              "\n",
              "      .colab-df-generate:hover {\n",
              "        background-color: #E2EBFA;\n",
              "        box-shadow: 0px 1px 2px rgba(60, 64, 67, 0.3), 0px 1px 3px 1px rgba(60, 64, 67, 0.15);\n",
              "        fill: #174EA6;\n",
              "      }\n",
              "\n",
              "      [theme=dark] .colab-df-generate {\n",
              "        background-color: #3B4455;\n",
              "        fill: #D2E3FC;\n",
              "      }\n",
              "\n",
              "      [theme=dark] .colab-df-generate:hover {\n",
              "        background-color: #434B5C;\n",
              "        box-shadow: 0px 1px 3px 1px rgba(0, 0, 0, 0.15);\n",
              "        filter: drop-shadow(0px 1px 2px rgba(0, 0, 0, 0.3));\n",
              "        fill: #FFFFFF;\n",
              "      }\n",
              "    </style>\n",
              "    <button class=\"colab-df-generate\" onclick=\"generateWithVariable('df')\"\n",
              "            title=\"Generate code using this dataframe.\"\n",
              "            style=\"display:none;\">\n",
              "\n",
              "  <svg xmlns=\"http://www.w3.org/2000/svg\" height=\"24px\"viewBox=\"0 0 24 24\"\n",
              "       width=\"24px\">\n",
              "    <path d=\"M7,19H8.4L18.45,9,17,7.55,7,17.6ZM5,21V16.75L18.45,3.32a2,2,0,0,1,2.83,0l1.4,1.43a1.91,1.91,0,0,1,.58,1.4,1.91,1.91,0,0,1-.58,1.4L9.25,21ZM18.45,9,17,7.55Zm-12,3A5.31,5.31,0,0,0,4.9,8.1,5.31,5.31,0,0,0,1,6.5,5.31,5.31,0,0,0,4.9,4.9,5.31,5.31,0,0,0,6.5,1,5.31,5.31,0,0,0,8.1,4.9,5.31,5.31,0,0,0,12,6.5,5.46,5.46,0,0,0,6.5,12Z\"/>\n",
              "  </svg>\n",
              "    </button>\n",
              "    <script>\n",
              "      (() => {\n",
              "      const buttonEl =\n",
              "        document.querySelector('#id_5b7aee6b-96f2-4b19-ae21-4cf47ada51e8 button.colab-df-generate');\n",
              "      buttonEl.style.display =\n",
              "        google.colab.kernel.accessAllowed ? 'block' : 'none';\n",
              "\n",
              "      buttonEl.onclick = () => {\n",
              "        google.colab.notebook.generateWithVariable('df');\n",
              "      }\n",
              "      })();\n",
              "    </script>\n",
              "  </div>\n",
              "\n",
              "    </div>\n",
              "  </div>\n"
            ],
            "application/vnd.google.colaboratory.intrinsic+json": {
              "type": "dataframe",
              "variable_name": "df",
              "summary": "{\n  \"name\": \"df\",\n  \"rows\": 5,\n  \"fields\": [\n    {\n      \"column\": \"Produto\",\n      \"properties\": {\n        \"dtype\": \"string\",\n        \"num_unique_values\": 5,\n        \"samples\": [\n          \"Milkshake\",\n          \"Sorvete\",\n          \"Mousse\"\n        ],\n        \"semantic_type\": \"\",\n        \"description\": \"\"\n      }\n    },\n    {\n      \"column\": \"Quantidade\",\n      \"properties\": {\n        \"dtype\": \"number\",\n        \"std\": 7,\n        \"min\": 1,\n        \"max\": 17,\n        \"num_unique_values\": 4,\n        \"samples\": [\n          6,\n          1,\n          17\n        ],\n        \"semantic_type\": \"\",\n        \"description\": \"\"\n      }\n    },\n    {\n      \"column\": \"Pre\\u00e7o\",\n      \"properties\": {\n        \"dtype\": \"number\",\n        \"std\": 33,\n        \"min\": 13,\n        \"max\": 79,\n        \"num_unique_values\": 4,\n        \"samples\": [\n          68,\n          18,\n          79\n        ],\n        \"semantic_type\": \"\",\n        \"description\": \"\"\n      }\n    },\n    {\n      \"column\": \"Total\",\n      \"properties\": {\n        \"dtype\": \"number\",\n        \"std\": 635,\n        \"min\": 13,\n        \"max\": 1343,\n        \"num_unique_values\": 5,\n        \"samples\": [\n          408,\n          18,\n          1185\n        ],\n        \"semantic_type\": \"\",\n        \"description\": \"\"\n      }\n    }\n  ]\n}"
            }
          },
          "metadata": {},
          "execution_count": 39
        }
      ]
    },
    {
      "cell_type": "markdown",
      "source": [
        "# 11 - Gráfico de Linhas\n",
        "\n",
        "Crie um gráfico de linha que mostra a variação de preços de um produto fictício ao longo de 12 meses."
      ],
      "metadata": {
        "id": "zxac7_iaRrmd"
      }
    },
    {
      "cell_type": "code",
      "source": [
        "meses = ['Janeiro', 'Fevereiro', 'Março', 'Abril', 'Maio', 'Junho', 'Julho', 'Agosto', 'Setembro', 'Outubro', 'Novembro', 'Dezembro']\n",
        "precos = np.random.randint(320, 500, size=12)\n",
        "\n",
        "plt.plot(meses, precos, marker='o', linestyle='-', color='b')\n",
        "plt.title('Variação de Preços de um Headset - 12 Meses')\n",
        "plt.xlabel('Meses')\n",
        "plt.ylabel('Preço (R$)')\n",
        "plt.grid(True)\n",
        "plt.xticks(rotation=45)\n",
        "\n",
        "\n",
        "plt.show()\n"
      ],
      "metadata": {
        "id": "ywR5nAxdRtFV",
        "colab": {
          "base_uri": "https://localhost:8080/",
          "height": 519
        },
        "outputId": "31975114-2e05-4837-cb11-6b93668383f4"
      },
      "execution_count": 46,
      "outputs": [
        {
          "output_type": "display_data",
          "data": {
            "text/plain": [
              "<Figure size 640x480 with 1 Axes>"
            ],
            "image/png": "[encoded data removed]"
          },
          "metadata": {}
        }
      ]
    },
    {
      "cell_type": "markdown",
      "source": [
        "# 12 - Gráfico de Barras\n",
        "\n",
        "Crie um gráfico de barras comparando a quantidade vendida de 5 produtos fictícios."
      ],
      "metadata": {
        "id": "9xjqFG2vRyZt"
      }
    },
    {
      "cell_type": "code",
      "source": [
        "plt.bar(x=df.Produto, height=df.Quantidade, color='red')\n",
        "plt.title('Quantidade Vendida por Produto')\n",
        "plt.xlabel('Produto')\n",
        "plt.ylabel('Quantidade Vendida')\n",
        "plt.grid(color='#95a5a6', linestyle='--', linewidth=2, axis='y', alpha=0.7)\n",
        "\n",
        "plt.show()\n"
      ],
      "metadata": {
        "id": "cOpSZ-NlR0Xt",
        "colab": {
          "base_uri": "https://localhost:8080/",
          "height": 472
        },
        "outputId": "c320d19c-e7a7-47de-ff2f-52d7261f35b4"
      },
      "execution_count": 50,
      "outputs": [
        {
          "output_type": "display_data",
          "data": {
            "text/plain": [
              "<Figure size 640x480 with 1 Axes>"
            ],
            "image/png": "[encoded data removed]"
          },
          "metadata": {}
        }
      ]
    },
    {
      "cell_type": "markdown",
      "source": [
        "# 13 - Histograma\n",
        "\n",
        "Crie um histograma para mostrar a distribuição de idades em um conjunto de dados fictício de 100 pessoas."
      ],
      "metadata": {
        "id": "c0BvtB-SR2-U"
      }
    },
    {
      "cell_type": "code",
      "source": [
        "idades = np.random.randint(10, 100, size=100)\n",
        "plt.hist(idades)\n",
        "plt.title('Distribuição de Idades')\n",
        "plt.xlabel('Idade')\n",
        "plt.ylabel('Frequência')\n"
      ],
      "metadata": {
        "id": "WI17kyDlR4vp",
        "colab": {
          "base_uri": "https://localhost:8080/",
          "height": 489
        },
        "outputId": "1bf3b23c-9696-496e-bcc3-033178620bc9"
      },
      "execution_count": 51,
      "outputs": [
        {
          "output_type": "execute_result",
          "data": {
            "text/plain": [
              "Text(0, 0.5, 'Frequência')"
            ]
          },
          "metadata": {},
          "execution_count": 51
        },
        {
          "output_type": "display_data",
          "data": {
            "text/plain": [
              "<Figure size 640x480 with 1 Axes>"
            ],
            "image/png": "[encoded data removed]"
          },
          "metadata": {}
        }
      ]
    },
    {
      "cell_type": "markdown",
      "source": [
        "# 14 - Gráfico de Dispersão\n",
        "\n",
        "Crie um gráfico de dispersão que mostre a relação entre altura e peso em um conjunto de dados fictício."
      ],
      "metadata": {
        "id": "bKgl9Nd9R-Cs"
      }
    },
    {
      "cell_type": "code",
      "source": [
        "alturas = np.random.normal(170, 10, 50)\n",
        "pesos = np.random.normal(70, 15, 50)\n",
        "\n",
        "plt.figure(figsize=(10, 6))\n",
        "plt.scatter(alturas, pesos, color='b', alpha=0.7)\n",
        "plt.grid(color='#95a5a6', linestyle='--', linewidth=2, axis='y', alpha=0.7)\n",
        "plt.show()"
      ],
      "metadata": {
        "id": "B3b_62QlSAfD",
        "colab": {
          "base_uri": "https://localhost:8080/",
          "height": 522
        },
        "outputId": "87813bb4-b606-40c6-b1fc-c639184e7076"
      },
      "execution_count": 56,
      "outputs": [
        {
          "output_type": "display_data",
          "data": {
            "text/plain": [
              "<Figure size 1000x600 with 1 Axes>"
            ],
            "image/png": "[encoded data removed]"
          },
          "metadata": {}
        }
      ]
    },
    {
      "cell_type": "markdown",
      "source": [
        "# 15 - Customização de Gráficos\n",
        "\n",
        "Adicione título, rótulos de eixo e uma legenda ao gráfico de barras criado anteriormente."
      ],
      "metadata": {
        "id": "tNCmxIQpSE0t"
      }
    },
    {
      "cell_type": "code",
      "source": [
        "alturas = np.random.normal(170, 10, 50)\n",
        "pesos = np.random.normal(70, 15, 50)\n",
        "\n",
        "plt.figure(figsize=(10, 6))\n",
        "plt.scatter(alturas, pesos, color='b', alpha=0.7)\n",
        "plt.title('Relação entre Altura e Peso')\n",
        "plt.xlabel('Altura (cm)')\n",
        "plt.ylabel('Peso (kg)')\n",
        "plt.grid(color='#95a5a6', linestyle='--', linewidth=2, axis='y', alpha=0.7)\n",
        "plt.legend(alturas)\n",
        "plt.show()"
      ],
      "metadata": {
        "id": "OgZ5iwKmSGpc",
        "colab": {
          "base_uri": "https://localhost:8080/",
          "height": 564
        },
        "outputId": "2a2394dc-a205-45ce-f9bc-d95b827e53f6"
      },
      "execution_count": 66,
      "outputs": [
        {
          "output_type": "display_data",
          "data": {
            "text/plain": [
              "<Figure size 1000x600 with 1 Axes>"
            ],
            "image/png": "[encoded data removed]"
          },
          "metadata": {}
        }
      ]
    },
    {
      "cell_type": "markdown",
      "source": [
        "# 16 - Gráfico de Barras com Seaborn\n",
        "\n",
        "Use Seaborn para criar um gráfico de barras com os mesmos dados fictícios de quantidade vendida por produto."
      ],
      "metadata": {
        "id": "gw5RT2ZJSJ59"
      }
    },
    {
      "cell_type": "code",
      "source": [
        "sns.barplot(x=df.Produto, y=df.Quantidade, color='red')\n",
        "plt.title('Quantidade Vendida por Produto')\n",
        "plt.xlabel('Produto')\n",
        "plt.ylabel('Quantidade Vendida')\n"
      ],
      "metadata": {
        "id": "x-D-slFcSLil",
        "colab": {
          "base_uri": "https://localhost:8080/",
          "height": 489
        },
        "outputId": "037a64ba-d673-4b43-95d7-198dbeb21884"
      },
      "execution_count": 67,
      "outputs": [
        {
          "output_type": "execute_result",
          "data": {
            "text/plain": [
              "Text(0, 0.5, 'Quantidade Vendida')"
            ]
          },
          "metadata": {},
          "execution_count": 67
        },
        {
          "output_type": "display_data",
          "data": {
            "text/plain": [
              "<Figure size 640x480 with 1 Axes>"
            ],
            "image/png": "[encoded data removed]"
          },
          "metadata": {}
        }
      ]
    },
    {
      "cell_type": "markdown",
      "source": [
        "# 17 - Gráfico de Dispersão com Seaborn\n",
        "\n",
        "Recrie o gráfico de dispersão da relação entre altura e peso usando Seaborn, incluindo uma linha de regressão."
      ],
      "metadata": {
        "id": "blPHqc6ySOyc"
      }
    },
    {
      "cell_type": "code",
      "source": [
        "sns.regplot(x=alturas, y=pesos, color='b')\n",
        "plt.title('Relação entre Altura e Peso')\n",
        "plt.xlabel('Altura (cm)')\n",
        "plt.ylabel('Peso (kg)')\n"
      ],
      "metadata": {
        "id": "A9z2SQNxSRRb",
        "colab": {
          "base_uri": "https://localhost:8080/",
          "height": 489
        },
        "outputId": "be3ded21-180f-4dd1-e719-c5be8bae6cfe"
      },
      "execution_count": 68,
      "outputs": [
        {
          "output_type": "execute_result",
          "data": {
            "text/plain": [
              "Text(0, 0.5, 'Peso (kg)')"
            ]
          },
          "metadata": {},
          "execution_count": 68
        },
        {
          "output_type": "display_data",
          "data": {
            "text/plain": [
              "<Figure size 640x480 with 1 Axes>"
            ],
            "image/png": "[encoded data removed]"
          },
          "metadata": {}
        }
      ]
    },
    {
      "cell_type": "markdown",
      "source": [
        "# 18 - Boxplot\n",
        "\n",
        "Crie um boxplot para visualizar a distribuição das idades em um conjunto de dados fictício de 50 pessoas."
      ],
      "metadata": {
        "id": "5tB86pxqSUwD"
      }
    },
    {
      "cell_type": "code",
      "source": [
        "sns.boxplot(x=idades)\n"
      ],
      "metadata": {
        "id": "ZYfVkDmfSWwj",
        "colab": {
          "base_uri": "https://localhost:8080/",
          "height": 447
        },
        "outputId": "6141664d-6b27-49c3-f89e-e0cf98500795"
      },
      "execution_count": 69,
      "outputs": [
        {
          "output_type": "execute_result",
          "data": {
            "text/plain": [
              "<Axes: >"
            ]
          },
          "metadata": {},
          "execution_count": 69
        },
        {
          "output_type": "display_data",
          "data": {
            "text/plain": [
              "<Figure size 640x480 with 1 Axes>"
            ],
            "image/png": "[encoded data removed]"
          },
          "metadata": {}
        }
      ]
    },
    {
      "cell_type": "markdown",
      "source": [
        "# 19 - Heatmap\n",
        "\n",
        "Crie um heatmap para mostrar a correlação entre diferentes variáveis em um DataFrame fictício."
      ],
      "metadata": {
        "id": "l7fCn2vRScd9"
      }
    },
    {
      "cell_type": "code",
      "source": [
        "#É retirada a coluna produto para que seja possivel fazer uma correção numerica entre quantidade e preço\n",
        "df_numeric = df.drop('Produto', axis=1)\n",
        "\n",
        "sns.heatmap(df_numeric.corr(), annot=True)\n"
      ],
      "metadata": {
        "id": "QADE3WaISd6k",
        "colab": {
          "base_uri": "https://localhost:8080/",
          "height": 452
        },
        "outputId": "828551df-11ec-4103-d8f7-7399a83afe86"
      },
      "execution_count": 76,
      "outputs": [
        {
          "output_type": "execute_result",
          "data": {
            "text/plain": [
              "<Axes: >"
            ]
          },
          "metadata": {},
          "execution_count": 76
        },
        {
          "output_type": "display_data",
          "data": {
            "text/plain": [
              "<Figure size 640x480 with 2 Axes>"
            ],
            "image/png": "[encoded data removed]"
          },
          "metadata": {}
        }
      ]
    },
    {
      "cell_type": "markdown",
      "source": [
        "# 20 - Pairplot\n",
        "\n",
        "Crie um pairplot para explorar relações entre várias variáveis em um conjunto de dados fictício."
      ],
      "metadata": {
        "id": "INXeBpIQShPd"
      }
    },
    {
      "cell_type": "code",
      "source": [
        "sns.pairplot(df)\n"
      ],
      "metadata": {
        "id": "FDkgNRdxSjEl",
        "colab": {
          "base_uri": "https://localhost:8080/",
          "height": 775
        },
        "outputId": "6e441f61-b775-4195-90ef-4c186c21c45b"
      },
      "execution_count": 72,
      "outputs": [
        {
          "output_type": "execute_result",
          "data": {
            "text/plain": [
              "<seaborn.axisgrid.PairGrid at 0x7992f87c1210>"
            ]
          },
          "metadata": {},
          "execution_count": 72
        },
        {
          "output_type": "display_data",
          "data": {
            "text/plain": [
              "<Figure size 750x750 with 12 Axes>"
            ],
            "image/png": "[encoded data removed]"
          },
          "metadata": {}
        }
      ]
    }
  ]
}